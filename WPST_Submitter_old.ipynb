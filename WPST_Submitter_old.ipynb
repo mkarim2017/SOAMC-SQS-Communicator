{
 "cells": [
  {
   "cell_type": "markdown",
   "id": "electric-prayer",
   "metadata": {},
   "source": [
    "# ADT SOAMC SQS WPS-T INTIGRATION"
   ]
  },
  {
   "cell_type": "code",
   "execution_count": null,
   "id": "impressive-blood",
   "metadata": {},
   "outputs": [],
   "source": [
    "%%bash\n",
    "pip install requests\n",
    "pip install typer\n",
    "pip install multiprocessing_logging"
   ]
  },
  {
   "cell_type": "code",
   "execution_count": null,
   "id": "threatened-gravity",
   "metadata": {},
   "outputs": [],
   "source": []
  },
  {
   "cell_type": "markdown",
   "id": "weird-castle",
   "metadata": {},
   "source": [
    "## Config file\n",
    "\n",
    "**Config file located in /home/jovyan/soamc-python-sqs-client/sqsconfig.py**\n",
    "\n",
    "**Update the values as needed**\n",
    "\n",
    "\n",
    "[AWS_SQS_QUEUE]\n",
    "\n",
    "AWS_ACCOUNT_ID={{ AWS_ACCOUNT_ID }}\n",
    "\n",
    "region_name=us-west-2\n",
    "\n",
    "aws_access_key={{ AWS_ACCESS_KEY }}\n",
    "\n",
    "aws_secret_key={{ AWS_SECRET_KEY }}\n",
    "\n",
    "listener_queue = {{ SQS_LISTENER_QUEUE }}\n",
    "\n",
    "poll_interval = 60\n",
    "\n",
    "queue_visibility_timeout = 600\n",
    "\n",
    "error_queue_name = None\n",
    "\n",
    "error_queue_visibility_timeout = 600\n",
    "\n",
    "force_delete = False\n",
    "\n",
    "wait_time = 0\n",
    "\n",
    "max_number_of_messages =  1\n",
    "\n",
    "queue_url = {{ QUEUE_URL }}\n",
    "\n",
    "\n",
    "[DAEMON]\n",
    "\n",
    "PID_FILE_PATH={{ PID_FILE_PATH }}/daemon_pid.pid\n",
    "\n",
    "DAEMON_OUTPUT_OVERWRITE=False \n",
    "\n",
    "DAEMON_OUTPUT_FILE={{ DAEMON_OUTPUT_FILE_PATH }}/listener_out.log\n",
    "\n",
    "DAEMON_ERROR_FILE={{ DAEMON_OUTPUT_FILE_PATH }}/listener_error.log\n",
    "\n",
    "DAEMON_STDIN=/dev/null\n",
    "\n",
    "\n",
    "[ADES_WPS-T_SERVER]\n",
    "\n",
    "wps_server_url=http://127.0.0.1:500\n"
   ]
  },
  {
   "cell_type": "code",
   "execution_count": 1,
   "id": "passive-spyware",
   "metadata": {},
   "outputs": [],
   "source": [
    "CONFIG_FILER_PATH = r'/home/jovyan/soamc-python-sqs-client/sqsconfig.py'"
   ]
  },
  {
   "cell_type": "markdown",
   "id": "running-fortune",
   "metadata": {},
   "source": [
    "## Utility Functions"
   ]
  },
  {
   "cell_type": "code",
   "execution_count": null,
   "id": "governmental-scheduling",
   "metadata": {},
   "outputs": [],
   "source": [
    "import logging \n",
    "import typer\n",
    "import logging\n",
    "import configparser\n",
    "import json\n",
    "import os\n",
    "from sqs_client.factories import ReplyQueueFactory, PublisherFactory\n",
    "from sqs_client.message import RequestMessage\n",
    "from sqs_client.exceptions import ReplyTimeout\n",
    "\n",
    "config = configparser.ConfigParser()\n",
    "config.read(CONFIG_FILER_PATH)\n",
    "print(config.sections())\n",
    "\n",
    "os.environ[\"AWS_ACCOUNT_ID\"] = config[\"AWS_SQS_QUEUE\"][\"AWS_ACCOUNT_ID\"]\n",
    "os.environ[\"AWS_ACCESS_KEY\"] = config[\"AWS_SQS_QUEUE\"][\"aws_access_key\"]\n",
    "os.environ[\"AWS_SECRET_ACCESS_KEY\"] = config[\"AWS_SQS_QUEUE\"][\"aws_secret_key\"]\n",
    "print(os.environ[\"AWS_ACCOUNT_ID\"])\n",
    "wps_server = config[\"ADES_WPS-T_SERVER\"][\"wps_server_url\"]\n",
    "queue_url = config[\"AWS_SQS_QUEUE\"]['queue_url']\n",
    "\n",
    "reply_queue = ReplyQueueFactory(\n",
    "    name='reply_queue_',\n",
    "    access_key=config[\"AWS_SQS_QUEUE\"][\"aws_access_key\"],\n",
    "    secret_key=config[\"AWS_SQS_QUEUE\"][\"aws_secret_key\"],\n",
    "    region_name=config[\"AWS_SQS_QUEUE\"]['region_name']\n",
    ").build()\n",
    "\n",
    "publisher = PublisherFactory(\n",
    "    access_key=config[\"AWS_SQS_QUEUE\"][\"aws_access_key\"],\n",
    "    secret_key=config[\"AWS_SQS_QUEUE\"][\"aws_secret_key\"],\n",
    "    region_name=config[\"AWS_SQS_QUEUE\"]['region_name']\n",
    ").build()\n",
    "\n",
    "class soamc_submitter():\n",
    "    def __init__(self):\n",
    "       pass\n",
    "\n",
    "    def submit_message(self, data):\n",
    "        message = RequestMessage(\n",
    "            body= json.dumps(data),\n",
    "            queue_url= queue_url,\n",
    "            reply_queue=reply_queue\n",
    "        )\n",
    "        publisher.send_message(message)\n",
    "\n",
    "        try:\n",
    "            response = message.get_response(timeout=20)\n",
    "            #print(response.body)\n",
    "            return json.loads(response.body)\n",
    "        except ReplyTimeout:\n",
    "            return {\"Error:\": \"Timeout\"}\n",
    "        except Exception as e:\n",
    "            return {\"Error\": str(e)}\n",
    "        finally:\n",
    "            reply_queue.remove_queue()\n",
    "\n",
    "\n",
    "    def info(self):\n",
    "        data = {'job_type': 'getLandingPage'}\n",
    "        response = self.submit_message(data)\n",
    "        print(json.dumps(response, indent=2))\n",
    "\n",
    "\n",
    "    def get_processes(self):\n",
    "        data = {'job_type': 'getProcesses'}\n",
    "        response = self.submit_message(data)\n",
    "        print(json.dumps(response, indent=2))\n",
    "\n",
    "\n",
    "    def deployProcess(self):\n",
    "        data = {'job_type': 'deployProcess'}\n",
    "        response = self.submit_message(data)\n",
    "        print(json.dumps(response, indent=2))\n",
    "\n",
    "\n",
    "    def process_desc(self, process_id: str):\n",
    "        print(process_id)\n",
    "        data = {'job_type': 'getProcessDescription', 'process_id' : process_id}\n",
    "        response = self.submit_message(data)\n",
    "        print(json.dumps(response, indent=2))\n",
    "\n",
    "\n",
    "    def delete_process(self, process_id: str):\n",
    "        print(process_id)\n",
    "        data = {'job_type': 'undeployProcess', 'process_id' : process_id}\n",
    "        response = self.submit_message(data)\n",
    "        print(json.dumps(response, indent=2))\n",
    "\n",
    "\n",
    "    def job_list(self, process_id: str):\n",
    "        data = {'job_type': 'getJobList', 'process_id' : process_id}\n",
    "        response = self.submit_message(data)\n",
    "        print(json.dumps(response, indent=2))\n",
    "\n",
    "\n",
    "    def run_process(self, process_id: str):\n",
    "        print(self, process_id)\n",
    "        data = {'job_type': 'execute', 'process_id' : process_id}\n",
    "        response = self.submit_message(data)\n",
    "        print(json.dumps(response, indent=2))\n",
    "\n",
    "\n",
    "    def job_status(self, process_id: str, job_id:str):\n",
    "        print(process_id)\n",
    "        data = {'job_type': 'getStatus', 'process_id' : process_id, 'job_id': job_id}\n",
    "        response = self.submit_message(data)\n",
    "        print(json.dumps(response, indent=2))\n",
    "\n",
    "\n",
    "    def delete_job(self, process_id: str, job_id:str):\n",
    "        print(process_id)\n",
    "        data = {'job_type': 'dismiss', 'process_id' : process_id, 'job_id': job_id}\n",
    "        response = self.submit_message(data)\n",
    "        print(json.dumps(response, indent=2))\n",
    "\n",
    "\n",
    "    def job_result(self, process_id: str, job_id:str):\n",
    "        print(process_id)\n",
    "        data = {'job_type': 'getResult', 'process_id' : process_id, 'job_id': job_id}\n",
    "        response = self.submit_message(data)\n",
    "        print(json.dumps(response, indent=2))\n",
    "\n",
    "\n",
    "        \n",
    "soamc_submitter = soamc_submitter()\n",
    "        "
   ]
  },
  {
   "cell_type": "markdown",
   "id": "rising-alignment",
   "metadata": {},
   "source": [
    "## All the Available End Points"
   ]
  },
  {
   "cell_type": "code",
   "execution_count": null,
   "id": "pointed-current",
   "metadata": {},
   "outputs": [],
   "source": [
    "info = soamc_submitter.info()\n",
    "print(info)"
   ]
  },
  {
   "cell_type": "markdown",
   "id": "gothic-continuity",
   "metadata": {},
   "source": [
    "## Get All the Processs"
   ]
  },
  {
   "cell_type": "code",
   "execution_count": null,
   "id": "looking-renewal",
   "metadata": {},
   "outputs": [],
   "source": [
    "processes = soamc_submitter.get_processes()\n",
    "print(processes)"
   ]
  },
  {
   "cell_type": "markdown",
   "id": "pursuant-neutral",
   "metadata": {},
   "source": [
    "## Description of a Particular Process"
   ]
  },
  {
   "cell_type": "code",
   "execution_count": null,
   "id": "demanding-pension",
   "metadata": {},
   "outputs": [],
   "source": [
    "process_desc = soamc_submitter.process_desc(\"proc1\")\n",
    "print(process_desc)"
   ]
  },
  {
   "cell_type": "markdown",
   "id": "lesbian-stock",
   "metadata": {},
   "source": [
    "## List all Jobs of a Particular Process"
   ]
  },
  {
   "cell_type": "code",
   "execution_count": null,
   "id": "above-gregory",
   "metadata": {},
   "outputs": [],
   "source": [
    "job_list = soamc_submitter.job_list(\"proc1\")\n",
    "print(job_list)"
   ]
  },
  {
   "cell_type": "markdown",
   "id": "satisfied-charge",
   "metadata": {},
   "source": [
    "## Result of a Particular Process"
   ]
  },
  {
   "cell_type": "code",
   "execution_count": null,
   "id": "closed-myanmar",
   "metadata": {},
   "outputs": [],
   "source": [
    "result = soamc_submitter.job_result(\"proc1\", \"job1\")\n",
    "print(result)\n"
   ]
  },
  {
   "cell_type": "markdown",
   "id": "english-france",
   "metadata": {},
   "source": [
    "## Status of a Job"
   ]
  },
  {
   "cell_type": "code",
   "execution_count": null,
   "id": "metric-response",
   "metadata": {},
   "outputs": [],
   "source": [
    "status = soamc_submitter.job_status(\"proc1\", \"job1\")\n",
    "print(status)"
   ]
  },
  {
   "cell_type": "markdown",
   "id": "explicit-immigration",
   "metadata": {},
   "source": [
    "## Delete a job"
   ]
  },
  {
   "cell_type": "code",
   "execution_count": null,
   "id": "seeing-productivity",
   "metadata": {},
   "outputs": [],
   "source": [
    "response = soamc_submitter.delete_job(\"proc1\", \"job1\")\n",
    "print(response)"
   ]
  },
  {
   "cell_type": "markdown",
   "id": "virgin-malaysia",
   "metadata": {},
   "source": [
    "## Delete a Process"
   ]
  },
  {
   "cell_type": "code",
   "execution_count": null,
   "id": "working-documentary",
   "metadata": {},
   "outputs": [],
   "source": [
    "response = soamc_submitter.delete_process(\"proc1\")\n",
    "print(response)"
   ]
  },
  {
   "cell_type": "markdown",
   "id": "cutting-glory",
   "metadata": {},
   "source": [
    "## Deploy all The Processes"
   ]
  },
  {
   "cell_type": "code",
   "execution_count": null,
   "id": "economic-refund",
   "metadata": {},
   "outputs": [],
   "source": [
    "response = soamc_submitter.deployProcess()\n",
    "print(response)"
   ]
  },
  {
   "cell_type": "markdown",
   "id": "wound-particle",
   "metadata": {},
   "source": [
    "## Execute a Process"
   ]
  },
  {
   "cell_type": "code",
   "execution_count": null,
   "id": "compressed-suspension",
   "metadata": {},
   "outputs": [],
   "source": [
    "response = soamc_submitter.run_process(\"proc1\")\n",
    "print(response)"
   ]
  },
  {
   "cell_type": "code",
   "execution_count": null,
   "id": "diverse-brunei",
   "metadata": {},
   "outputs": [],
   "source": []
  },
  {
   "cell_type": "code",
   "execution_count": null,
   "id": "guided-wilderness",
   "metadata": {},
   "outputs": [],
   "source": []
  }
 ],
 "metadata": {
  "kernelspec": {
   "display_name": "Python 3 (ipykernel)",
   "language": "python",
   "name": "python3"
  },
  "language_info": {
   "codemirror_mode": {
    "name": "ipython",
    "version": 3
   },
   "file_extension": ".py",
   "mimetype": "text/x-python",
   "name": "python",
   "nbconvert_exporter": "python",
   "pygments_lexer": "ipython3",
   "version": "3.9.12"
  }
 },
 "nbformat": 4,
 "nbformat_minor": 5
}
