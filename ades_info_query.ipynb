{
 "cells": [
  {
   "cell_type": "markdown",
   "id": "8dcb3ba2",
   "metadata": {},
   "source": [
    "\n",
    "# ADT SOAMC SQS WPS-T INTIGRATION\n"
   ]
  },
  {
   "cell_type": "markdown",
   "id": "8291cc5c",
   "metadata": {},
   "source": [
    "\n",
    "\n",
    "\n",
    "## Install Python Packages\n",
    " you must install the following Python packages, which might not already be installed in your environment:\n",
    "\n",
    "- requests: \n",
    "- typer: \n",
    "- multiprocessing_logging: \n",
    "- boto3\n",
    "    \n"
   ]
  },
  {
   "cell_type": "code",
   "execution_count": 2,
   "id": "d1914d7b",
   "metadata": {},
   "outputs": [
    {
     "name": "stdout",
     "output_type": "stream",
     "text": [
      "Requirement already satisfied: requests in /opt/conda/lib/python3.7/site-packages (2.24.0)\n",
      "Requirement already satisfied: certifi>=2017.4.17 in /opt/conda/lib/python3.7/site-packages (from requests) (2021.5.30)\n",
      "Requirement already satisfied: urllib3!=1.25.0,!=1.25.1,<1.26,>=1.21.1 in /opt/conda/lib/python3.7/site-packages (from requests) (1.25.11)\n",
      "Requirement already satisfied: idna<3,>=2.5 in /opt/conda/lib/python3.7/site-packages (from requests) (2.10)\n",
      "Requirement already satisfied: chardet<4,>=3.0.2 in /opt/conda/lib/python3.7/site-packages (from requests) (3.0.4)\n",
      "Requirement already satisfied: typer in /opt/conda/lib/python3.7/site-packages (0.6.1)\n",
      "Requirement already satisfied: click<9.0.0,>=7.1.1 in /opt/conda/lib/python3.7/site-packages (from typer) (7.1.2)\n",
      "Requirement already satisfied: multiprocessing_logging in /opt/conda/lib/python3.7/site-packages (0.3.3)\n",
      "Requirement already satisfied: boto3 in /opt/conda/lib/python3.7/site-packages/boto3-1.18.47-py3.7.egg (1.18.47)\n",
      "Requirement already satisfied: botocore<1.22.0,>=1.21.47 in /opt/conda/lib/python3.7/site-packages (from boto3) (1.21.65)\n",
      "Requirement already satisfied: jmespath<1.0.0,>=0.7.1 in /opt/conda/lib/python3.7/site-packages/jmespath-0.10.0-py3.7.egg (from boto3) (0.10.0)\n",
      "Requirement already satisfied: s3transfer<0.6.0,>=0.5.0 in /opt/conda/lib/python3.7/site-packages (from boto3) (0.5.2)\n",
      "Requirement already satisfied: urllib3<1.27,>=1.25.4 in /opt/conda/lib/python3.7/site-packages (from botocore<1.22.0,>=1.21.47->boto3) (1.25.11)\n",
      "Requirement already satisfied: python-dateutil<3.0.0,>=2.1 in /opt/conda/lib/python3.7/site-packages (from botocore<1.22.0,>=1.21.47->boto3) (2.8.2)\n",
      "Requirement already satisfied: six>=1.5 in /opt/conda/lib/python3.7/site-packages (from python-dateutil<3.0.0,>=2.1->botocore<1.22.0,>=1.21.47->boto3) (1.15.0)\n"
     ]
    },
    {
     "name": "stderr",
     "output_type": "stream",
     "text": [
      "WARNING: Running pip as the 'root' user can result in broken permissions and conflicting behaviour with the system package manager. It is recommended to use a virtual environment instead: https://pip.pypa.io/warnings/venv\n",
      "WARNING: You are using pip version 22.0.3; however, version 22.2.2 is available.\n",
      "You should consider upgrading via the '/opt/conda/bin/python3.7 -m pip install --upgrade pip' command.\n",
      "WARNING: Running pip as the 'root' user can result in broken permissions and conflicting behaviour with the system package manager. It is recommended to use a virtual environment instead: https://pip.pypa.io/warnings/venv\n",
      "WARNING: You are using pip version 22.0.3; however, version 22.2.2 is available.\n",
      "You should consider upgrading via the '/opt/conda/bin/python3.7 -m pip install --upgrade pip' command.\n",
      "WARNING: Running pip as the 'root' user can result in broken permissions and conflicting behaviour with the system package manager. It is recommended to use a virtual environment instead: https://pip.pypa.io/warnings/venv\n",
      "WARNING: You are using pip version 22.0.3; however, version 22.2.2 is available.\n",
      "You should consider upgrading via the '/opt/conda/bin/python3.7 -m pip install --upgrade pip' command.\n",
      "WARNING: Running pip as the 'root' user can result in broken permissions and conflicting behaviour with the system package manager. It is recommended to use a virtual environment instead: https://pip.pypa.io/warnings/venv\n",
      "WARNING: You are using pip version 22.0.3; however, version 22.2.2 is available.\n",
      "You should consider upgrading via the '/opt/conda/bin/python3.7 -m pip install --upgrade pip' command.\n"
     ]
    }
   ],
   "source": [
    "%%bash\n",
    "./run.sh"
   ]
  },
  {
   "cell_type": "markdown",
   "id": "5319671a",
   "metadata": {},
   "source": [
    "## Config file: sqsconfig.py\n",
    "\n",
    "\n",
    "**Update the values as needed**\n",
    "\n",
    "[AWS_SQS_QUEUE]\n",
    "\n",
    "AWS_ACCOUNT_ID={{ AWS_ACCOUNT_ID }}\n",
    "\n",
    "region_name=us-west-2\n",
    "\n",
    "aws_access_key={{ AWS_ACCESS_KEY }}\n",
    "\n",
    "aws_secret_key={{ AWS_SECRET_KEY }}\n",
    "\n",
    "listener_queue = {{ SQS_LISTENER_QUEUE }}\n",
    "\n",
    "poll_interval = 60\n",
    "\n",
    "queue_visibility_timeout = 600\n",
    "\n",
    "error_queue_name = None\n",
    "\n",
    "error_queue_visibility_timeout = 600\n",
    "\n",
    "force_delete = False\n",
    "\n",
    "wait_time = 0\n",
    "\n",
    "max_number_of_messages =  1\n",
    "\n",
    "queue_url = {{ QUEUE_URL }}\n",
    "\n",
    "\n",
    "[DAEMON]\n",
    "\n",
    "PID_FILE_PATH={{ PID_FILE_PATH }}/daemon_pid.pid\n",
    "\n",
    "DAEMON_OUTPUT_OVERWRITE=False \n",
    "\n",
    "DAEMON_OUTPUT_FILE={{ DAEMON_OUTPUT_FILE_PATH }}/listener_out.log\n",
    "\n",
    "DAEMON_ERROR_FILE={{ DAEMON_OUTPUT_FILE_PATH }}/listener_error.log\n",
    "\n",
    "DAEMON_STDIN=/dev/null\n",
    "\n",
    "\n",
    "[ADES_WPS-T_SERVER]\n",
    "\n",
    "wps_server_url=http://127.0.0.1:5000"
   ]
  },
  {
   "cell_type": "code",
   "execution_count": 23,
   "id": "7bd91c67",
   "metadata": {},
   "outputs": [],
   "source": [
    "CONFIG_FILER_PATH = r'/projects/SOAMC-SQS-Communicator/sqsconfig.py'"
   ]
  },
  {
   "cell_type": "markdown",
   "id": "233bdaf9",
   "metadata": {},
   "source": [
    "## Communicating with Remote Servers \n",
    "We will be using two different queues to communicate with two different ades server: one running in pliedes and the other running in eks."
   ]
  },
  {
   "cell_type": "code",
   "execution_count": 24,
   "id": "c1362ff4",
   "metadata": {},
   "outputs": [],
   "source": [
    "pbs_queue_url = \"https://sqs.us-west-2.amazonaws.com/043575651191/ades-pbs-maaphec-dev-002-wpst-request\"\n",
    "eks_queue_url = \"https://sqs.us-west-2.amazonaws.com/043575651191/ades-eks-maaphec-dev-001-wpst-request\""
   ]
  },
  {
   "cell_type": "markdown",
   "id": "9acd45a5",
   "metadata": {},
   "source": [
    "## See How to Run"
   ]
  },
  {
   "cell_type": "code",
   "execution_count": 25,
   "id": "5c7f8bb2",
   "metadata": {},
   "outputs": [
    {
     "name": "stdout",
     "output_type": "stream",
     "text": [
      "Usage: ades_query_submitter.py [OPTIONS] COMMAND [ARGS]...\n",
      "\n",
      "Options:\n",
      "  --install-completion [bash|zsh|fish|powershell|pwsh]\n",
      "                                  Install completion for the specified shell.\n",
      "  --show-completion [bash|zsh|fish|powershell|pwsh]\n",
      "                                  Show completion for the specified shell, to\n",
      "                                  copy it or customize the installation.\n",
      "\n",
      "  --help                          Show this message and exit.\n",
      "\n",
      "Commands:\n",
      "  deployprocess\n",
      "  dismiss\n",
      "  execute\n",
      "  fullresult\n",
      "  getjoblist\n",
      "  getlandingpage\n",
      "  getprocessdescription\n",
      "  getprocesses\n",
      "  getresult\n",
      "  getstatus\n",
      "  undeployprocess\n"
     ]
    }
   ],
   "source": [
    "%%bash\n",
    "python3.7 ades_query_submitter.py --help\n"
   ]
  },
  {
   "cell_type": "markdown",
   "id": "f94127fe",
   "metadata": {},
   "source": [
    "## All the Available End Points\n",
    "\n",
    "We can get all the end point exposed by ades server along with the parameters it takes."
   ]
  },
  {
   "cell_type": "code",
   "execution_count": 26,
   "id": "e7a13311",
   "metadata": {},
   "outputs": [
    {
     "name": "stdout",
     "output_type": "stream",
     "text": [
      "\n",
      "\n",
      "\n",
      "\n",
      "submit_message : queue_url : https://sqs.us-west-2.amazonaws.com/043575651191/ades-eks-maaphec-dev-001-wpst-request reply_queue : <sqs_client.reply_queue.ReplyQueue object at 0x7fa96fe87590> data : {\"job_type\": \"getLandingPage\"}\n",
      "self.get_name() : reply_queue_ades-eks-maaphec-dev-001-wpst-request4279597586\n",
      "submit_message : sent\n",
      "{\n",
      "  \"ades_id\": \"maap-hec-ades-k8s\",\n",
      "  \"api_version\": \"1.0\",\n",
      "  \"landingPage\": {\n",
      "    \"links\": [\n",
      "      {\n",
      "        \"example\": \"curl http://127.0.0.1:5000/\",\n",
      "        \"href\": \"/\",\n",
      "        \"parameters\": \"\",\n",
      "        \"payload\": \"\",\n",
      "        \"title\": \"getLandingPage\",\n",
      "        \"type\": \"GET\"\n",
      "      },\n",
      "      {\n",
      "        \"example\": \"curl http://127.0.0.1:5000/processes\",\n",
      "        \"href\": \"/processes\",\n",
      "        \"parameters\": \"\",\n",
      "        \"payload\": \"\",\n",
      "        \"title\": \"getProcesses\",\n",
      "        \"type\": \"GET\"\n",
      "      },\n",
      "      {\n",
      "        \"example\": \"curl -X POST http://127.0.0.1:5000/processes/proc=https://public-url/to-your-application-descriptor.json\",\n",
      "        \"href\": \"/processes\",\n",
      "        \"parameters\": \"proc=<url-to-app.json>\",\n",
      "        \"payload\": \"\",\n",
      "        \"title\": \"deployProcess\",\n",
      "        \"type\": \"POST\"\n",
      "      },\n",
      "      {\n",
      "        \"example\": \"curl http://127.0.0.1:5000/processes/<your-process-id-from-getProcesses>\",\n",
      "        \"href\": \"/processes/<procID>\",\n",
      "        \"parameters\": \"\",\n",
      "        \"payload\": \"\",\n",
      "        \"title\": \"getProcessDescription\",\n",
      "        \"type\": \"GET\"\n",
      "      },\n",
      "      {\n",
      "        \"example\": \"curl -X DELETE http://127.0.0.1:5000/processes/<your-process-id-from-getProcesses>\",\n",
      "        \"href\": \"/processes/<procID>\",\n",
      "        \"parameters\": \"\",\n",
      "        \"payload\": \"\",\n",
      "        \"title\": \"undeployProcess\",\n",
      "        \"type\": \"DELETE\"\n",
      "      },\n",
      "      {\n",
      "        \"example\": \"curl http://127.0.0.1:5000/processes/<your-process-id-from-getProcesses>/jobs\",\n",
      "        \"href\": \"/processes/<procID>/jobs\",\n",
      "        \"parameters\": \"\",\n",
      "        \"payload\": \"\",\n",
      "        \"title\": \"getJobList\",\n",
      "        \"type\": \"GET\"\n",
      "      },\n",
      "      {\n",
      "        \"example\": \"curl -H \\\"Content-Type: application/json\\\" -X POST -d '{\\\"param1\\\"=\\\"value1\\\", \\\"param2\\\"=\\\"value2\\\"}' http://127.0.0.1:5000/processes/<your-process-id-from-getProcesses>/jobs\",\n",
      "        \"href\": \"/processes/<procID>/jobs\",\n",
      "        \"parameters\": \"user=<username>\",\n",
      "        \"payload\": \"<workflow-inputs>\",\n",
      "        \"title\": \"execute\",\n",
      "        \"type\": \"POST\"\n",
      "      },\n",
      "      {\n",
      "        \"example\": \"curl http://127.0.0.1:5000/processes/<your-process-id-from-getProcesses>/jobs/<your-job-id-from-getJobList>\",\n",
      "        \"href\": \"/processes/<procID>/jobs/<jobID>\",\n",
      "        \"parameters\": \"\",\n",
      "        \"payload\": \"\",\n",
      "        \"title\": \"getStatus\",\n",
      "        \"type\": \"GET\"\n",
      "      },\n",
      "      {\n",
      "        \"example\": \"curl -X DELETE http://127.0.0.1:5000/processes/<your-process-id-from-getProcesses>/jobs/<your-job-id-from-getJobList>\",\n",
      "        \"href\": \"/processes/<procID>/jobs/<jobID>\",\n",
      "        \"parameters\": \"\",\n",
      "        \"payload\": \"\",\n",
      "        \"title\": \"dismiss\",\n",
      "        \"type\": \"DELETE\"\n",
      "      },\n",
      "      {\n",
      "        \"example\": \"curl http://127.0.0.1:5000/processes/<your-process-id-from-getProcesses>/jobs/<your-job-id-from-getJobList>/result\",\n",
      "        \"href\": \"/processes/<procID>/jobs/<jobID>/result\",\n",
      "        \"parameters\": \"\",\n",
      "        \"payload\": \"\",\n",
      "        \"title\": \"getResult\",\n",
      "        \"type\": \"GET\"\n",
      "      }\n",
      "    ]\n",
      "  }\n",
      "}\n"
     ]
    }
   ],
   "source": [
    "%%bash \n",
    "python3.7 ades_query_submitter.py getlandingpage https://sqs.us-west-2.amazonaws.com/043575651191/ades-eks-maaphec-dev-001-wpst-request\n"
   ]
  },
  {
   "cell_type": "code",
   "execution_count": null,
   "id": "38e23122",
   "metadata": {},
   "outputs": [],
   "source": [
    "## Checking Extsing Processes, jobs that are running in each of ades server."
   ]
  },
  {
   "cell_type": "code",
   "execution_count": 21,
   "id": "7f84aff2",
   "metadata": {},
   "outputs": [
    {
     "name": "stdout",
     "output_type": "stream",
     "text": [
      "\n",
      "GET LIST of ALL PROCESSES\n",
      "\n",
      "\n",
      "\n",
      "\n",
      "submit_message : queue_url : https://sqs.us-west-2.amazonaws.com/043575651191/ades-eks-maaphec-dev-001-wpst-request reply_queue : <sqs_client.reply_queue.ReplyQueue object at 0x7fb43ddea490> data : {\"job_type\": \"getProcesses\"}\n",
      "self.get_name() : reply_queue_ades-eks-maaphec-dev-001-wpst-request3435608809\n",
      "submit_message : sent\n",
      "\n",
      "\n",
      "Processes: ['jplzhan.gedi-subset.main-1.0.0']\n",
      "\n",
      "GET ALL JOBS for PROCESS : jplzhan.gedi-subset.main-1.0.0\n",
      "\n",
      "\n",
      "\n",
      "\n",
      "submit_message : queue_url : https://sqs.us-west-2.amazonaws.com/043575651191/ades-eks-maaphec-dev-001-wpst-request reply_queue : <sqs_client.reply_queue.ReplyQueue object at 0x7fb43ddea490> data : {\"job_type\": \"getJobList\", \"process_id\": \"jplzhan.gedi-subset.main-1.0.0\"}\n",
      "self.get_name() : reply_queue_ades-eks-maaphec-dev-001-wpst-request2192050880\n",
      "submit_message : sent\n",
      "\n",
      "\n",
      "Jobs for process jplzhan.gedi-subset.main-1.0.0 : ['jplzhan.gedi-subset.main-1.0.0-bf8d52da5cf6b304104f4f9c72fc228ba1a76c08', 'jplzhan.gedi-subset.main-1.0.0-71600fa23d841e7029d4db27882c5a6f601055c1']\n",
      "\n",
      "GET STATUS of PROCESS : jplzhan.gedi-subset.main-1.0.0 JOB : jplzhan.gedi-subset.main-1.0.0-bf8d52da5cf6b304104f4f9c72fc228ba1a76c08\n",
      "\n",
      "\n",
      "\n",
      "\n",
      "submit_message : queue_url : https://sqs.us-west-2.amazonaws.com/043575651191/ades-eks-maaphec-dev-001-wpst-request reply_queue : <sqs_client.reply_queue.ReplyQueue object at 0x7fb43ddea490> data : {\"job_type\": \"getStatus\", \"process_id\": \"jplzhan.gedi-subset.main-1.0.0\", \"job_id\": \"jplzhan.gedi-subset.main-1.0.0-bf8d52da5cf6b304104f4f9c72fc228ba1a76c08\"}\n",
      "self.get_name() : reply_queue_ades-eks-maaphec-dev-001-wpst-request4183291281\n",
      "submit_message : sent\n",
      "{\n",
      "  \"ades_id\": \"maap-hec-ades-k8s\",\n",
      "  \"api_version\": \"1.0\",\n",
      "  \"statusInfo\": {\n",
      "    \"jobID\": \"jplzhan.gedi-subset.main-1.0.0-bf8d52da5cf6b304104f4f9c72fc228ba1a76c08\",\n",
      "    \"job_type\": \"jplzhan.gedi-subset.main-1.0.0\",\n",
      "    \"metrics\": {},\n",
      "    \"status\": \"failed\",\n",
      "    \"time_queued\": \"2022-08-31T22:45:11+0000\",\n",
      "    \"username\": \"anonymous\"\n",
      "  }\n",
      "}\n",
      "\n",
      "GET STATUS of PROCESS : jplzhan.gedi-subset.main-1.0.0 JOB : jplzhan.gedi-subset.main-1.0.0-71600fa23d841e7029d4db27882c5a6f601055c1\n",
      "\n",
      "\n",
      "\n",
      "\n",
      "submit_message : queue_url : https://sqs.us-west-2.amazonaws.com/043575651191/ades-eks-maaphec-dev-001-wpst-request reply_queue : <sqs_client.reply_queue.ReplyQueue object at 0x7fb43ddea490> data : {\"job_type\": \"getStatus\", \"process_id\": \"jplzhan.gedi-subset.main-1.0.0\", \"job_id\": \"jplzhan.gedi-subset.main-1.0.0-71600fa23d841e7029d4db27882c5a6f601055c1\"}\n",
      "self.get_name() : reply_queue_ades-eks-maaphec-dev-001-wpst-request2425190296\n",
      "submit_message : sent\n",
      "{\n",
      "  \"ades_id\": \"maap-hec-ades-k8s\",\n",
      "  \"api_version\": \"1.0\",\n",
      "  \"statusInfo\": {\n",
      "    \"jobID\": \"jplzhan.gedi-subset.main-1.0.0-71600fa23d841e7029d4db27882c5a6f601055c1\",\n",
      "    \"job_type\": \"jplzhan.gedi-subset.main-1.0.0\",\n",
      "    \"metrics\": {\n",
      "      \"blob\": {\n",
      "        \"children\": [\n",
      "          {\n",
      "            \"cpu_hours\": 0.0005555555555555556,\n",
      "            \"cpus\": 1.0,\n",
      "            \"disk_megabytes\": 0.051415,\n",
      "            \"elapsed_hours\": 0.0005555555555555556,\n",
      "            \"elapsed_seconds\": 2.0,\n",
      "            \"finish_time\": \"2022-08-31T23:03:55+00:00\",\n",
      "            \"name\": \"stage_in_aoi\",\n",
      "            \"ram_megabyte_hours\": 0.14913080888888888,\n",
      "            \"ram_megabytes\": 268.435456,\n",
      "            \"start_time\": \"2022-08-31T23:03:53+00:00\"\n",
      "          },\n",
      "          {\n",
      "            \"cpu_hours\": 0.03722222222222222,\n",
      "            \"cpus\": 1.0,\n",
      "            \"disk_megabytes\": 0.025717,\n",
      "            \"elapsed_hours\": 0.03722222222222222,\n",
      "            \"elapsed_seconds\": 134.0,\n",
      "            \"finish_time\": \"2022-08-31T23:06:36+00:00\",\n",
      "            \"name\": \"process\",\n",
      "            \"ram_megabyte_hours\": 9.991764195555554,\n",
      "            \"ram_megabytes\": 268.435456,\n",
      "            \"start_time\": \"2022-08-31T23:04:22+00:00\"\n",
      "          }\n",
      "        ],\n",
      "        \"cores_allowed\": 1.0,\n",
      "        \"elapsed_hours\": 0.04527777777777778,\n",
      "        \"elapsed_seconds\": 163.0,\n",
      "        \"finish_time\": \"2022-08-31T23:06:36+00:00\",\n",
      "        \"max_parallel_cpus\": 1.0,\n",
      "        \"max_parallel_ram_megabytes\": 268.435456,\n",
      "        \"max_parallel_tasks\": 1,\n",
      "        \"ram_mb_allowed\": 1073.741824,\n",
      "        \"start_time\": \"2022-08-31T23:03:53+00:00\",\n",
      "        \"total_cpu_hours\": 0.03777777777777777,\n",
      "        \"total_disk_megabytes\": 0.077132,\n",
      "        \"total_ram_megabyte_hours\": 10.140895004444443,\n",
      "        \"total_tasks\": 2\n",
      "      },\n",
      "      \"processes\": [\n",
      "        {\n",
      "          \"memory_max_gb\": 0.262144,\n",
      "          \"name\": \"stage_in_aoi\",\n",
      "          \"node\": {\n",
      "            \"cores\": 1.0,\n",
      "            \"disk_space_free_gb\": \"unknown\",\n",
      "            \"hostname\": \"10.52.106.140\",\n",
      "            \"ip_address\": \"10.52.106.140\",\n",
      "            \"memory_gb\": \"unknown\"\n",
      "          },\n",
      "          \"time_end\": \"2022-08-31T23:03:55+00:00\",\n",
      "          \"time_started\": \"2022-08-31T23:03:53+00:00\",\n",
      "          \"work_dir_size_gb\": 5.02099609375e-05\n",
      "        },\n",
      "        {\n",
      "          \"memory_max_gb\": 0.262144,\n",
      "          \"name\": \"process\",\n",
      "          \"node\": {\n",
      "            \"cores\": 1.0,\n",
      "            \"disk_space_free_gb\": \"unknown\",\n",
      "            \"hostname\": \"10.52.106.245\",\n",
      "            \"ip_address\": \"10.52.106.245\",\n",
      "            \"memory_gb\": \"unknown\"\n",
      "          },\n",
      "          \"time_end\": \"2022-08-31T23:06:36+00:00\",\n",
      "          \"time_started\": \"2022-08-31T23:04:22+00:00\",\n",
      "          \"work_dir_size_gb\": 2.51142578125e-05\n",
      "        }\n",
      "      ],\n",
      "      \"workflow\": {\n",
      "        \"exit_code\": 1,\n",
      "        \"time_end\": \"2022-08-31T23:06:36+00:00\",\n",
      "        \"time_queued\": \"2022-08-31T22:56:47+00:00\",\n",
      "        \"time_started\": \"2022-08-31T23:03:53+00:00\"\n",
      "      }\n",
      "    },\n",
      "    \"status\": \"failed\",\n",
      "    \"time_queued\": \"2022-08-31T22:56:47+0000\",\n",
      "    \"username\": \"anonymous\"\n",
      "  }\n",
      "}\n"
     ]
    }
   ],
   "source": [
    "!python3.7 ades_query_submitter.py fullresult https://sqs.us-west-2.amazonaws.com/043575651191/ades-eks-maaphec-dev-001-wpst-request"
   ]
  },
  {
   "cell_type": "markdown",
   "id": "4ab94f14",
   "metadata": {},
   "source": [
    "## Get All the Processs"
   ]
  },
  {
   "cell_type": "code",
   "execution_count": 9,
   "id": "2b248759",
   "metadata": {},
   "outputs": [
    {
     "name": "stdout",
     "output_type": "stream",
     "text": [
      "submit_message : queue_url : https://sqs.us-west-2.amazonaws.com/043575651191/ades-eks-maaphec-dev-001-wpst-request reply_queue : <sqs_client.reply_queue.ReplyQueue object at 0x7f33f5bfa050> data : {\"job_type\": \"getProcesses\"}\n",
      "self.get_name() : reply_queue_ades-eks-maaphec-dev-001-wpst-request3379132192\n",
      "submit_message : sent\n",
      "['jplzhan.gedi-subset.main-1.0.0']\n"
     ]
    }
   ],
   "source": [
    "!python3.7 ades_query_submitter.py getprocesses https://sqs.us-west-2.amazonaws.com/043575651191/ades-eks-maaphec-dev-001-wpst-request\n"
   ]
  },
  {
   "cell_type": "markdown",
   "id": "9e00ee06",
   "metadata": {},
   "source": [
    "## List all the Jobs of a Process"
   ]
  },
  {
   "cell_type": "code",
   "execution_count": 12,
   "id": "505cf1f8",
   "metadata": {},
   "outputs": [
    {
     "name": "stdout",
     "output_type": "stream",
     "text": [
      "submit_message : queue_url : https://sqs.us-west-2.amazonaws.com/043575651191/ades-eks-maaphec-dev-001-wpst-request reply_queue : <sqs_client.reply_queue.ReplyQueue object at 0x7f849cf3a590> data : {\"job_type\": \"getJobList\", \"process_id\": \"jplzhan.gedi-subset.main-1.0.0\"}\n",
      "self.get_name() : reply_queue_ades-eks-maaphec-dev-001-wpst-request2882467082\n",
      "submit_message : sent\n",
      "\n",
      "\n",
      "Jobs for process jplzhan.gedi-subset.main-1.0.0 : ['jplzhan.gedi-subset.main-1.0.0-bf8d52da5cf6b304104f4f9c72fc228ba1a76c08', 'jplzhan.gedi-subset.main-1.0.0-71600fa23d841e7029d4db27882c5a6f601055c1']\n"
     ]
    }
   ],
   "source": [
    "!python3.7 ades_query_submitter.py getjoblist jplzhan.gedi-subset.main-1.0.0 https://sqs.us-west-2.amazonaws.com/043575651191/ades-eks-maaphec-dev-001-wpst-request\n",
    "\n"
   ]
  },
  {
   "cell_type": "markdown",
   "id": "9122dd62",
   "metadata": {},
   "source": [
    "## Job-Result of a Particular Job"
   ]
  },
  {
   "cell_type": "code",
   "execution_count": 14,
   "id": "b09326f5",
   "metadata": {},
   "outputs": [
    {
     "name": "stdout",
     "output_type": "stream",
     "text": [
      "jplzhan.gedi-subset.main-1.0.0\n",
      "submit_message : queue_url : https://sqs.us-west-2.amazonaws.com/043575651191/ades-eks-maaphec-dev-001-wpst-request reply_queue : <sqs_client.reply_queue.ReplyQueue object at 0x7f369c2d40d0> data : {\"job_type\": \"getResult\", \"process_id\": \"jplzhan.gedi-subset.main-1.0.0\", \"job_id\": \"jplzhan.gedi-subset.main-1.0.0-bf8d52da5cf6b304104f4f9c72fc228ba1a76c08\"}\n",
      "self.get_name() : reply_queue_ades-eks-maaphec-dev-001-wpst-request1876809542\n",
      "submit_message : sent\n",
      "{\n",
      "  \"ades_id\": \"maap-hec-ades-k8s\",\n",
      "  \"api_version\": \"1.0\",\n",
      "  \"jobID\": \"jplzhan.gedi-subset.main-1.0.0-bf8d52da5cf6b304104f4f9c72fc228ba1a76c08\",\n",
      "  \"links\": [\n",
      "    {\n",
      "      \"href\": \"https://mypath\",\n",
      "      \"rel\": \"result\",\n",
      "      \"title\": \"mytitle\",\n",
      "      \"type\": \"application/json\"\n",
      "    }\n",
      "  ],\n",
      "  \"status\": \"failed\"\n",
      "}\n"
     ]
    }
   ],
   "source": [
    "!python3.7 soamc_submitter.py getresult jplzhan.gedi-subset.main-1.0.0 jplzhan.gedi-subset.main-1.0.0-bf8d52da5cf6b304104f4f9c72fc228ba1a76c08 https://sqs.us-west-2.amazonaws.com/043575651191/ades-eks-maaphec-dev-001-wpst-request\n"
   ]
  },
  {
   "cell_type": "markdown",
   "id": "92fd9798",
   "metadata": {},
   "source": [
    "## Job-Status of a Particular Job"
   ]
  },
  {
   "cell_type": "code",
   "execution_count": 15,
   "id": "4008502b",
   "metadata": {},
   "outputs": [
    {
     "name": "stdout",
     "output_type": "stream",
     "text": [
      "jplzhan.gedi-subset.main-1.0.0\n",
      "submit_message : queue_url : https://sqs.us-west-2.amazonaws.com/043575651191/ades-eks-maaphec-dev-001-wpst-request reply_queue : <sqs_client.reply_queue.ReplyQueue object at 0x7fb74d7dd090> data : {\"job_type\": \"getStatus\", \"process_id\": \"jplzhan.gedi-subset.main-1.0.0\", \"job_id\": \"jplzhan.gedi-subset.main-1.0.0-bf8d52da5cf6b304104f4f9c72fc228ba1a76c08\"}\n",
      "self.get_name() : reply_queue_ades-eks-maaphec-dev-001-wpst-request638797091\n",
      "submit_message : sent\n",
      "{\n",
      "  \"ades_id\": \"maap-hec-ades-k8s\",\n",
      "  \"api_version\": \"1.0\",\n",
      "  \"statusInfo\": {\n",
      "    \"jobID\": \"jplzhan.gedi-subset.main-1.0.0-bf8d52da5cf6b304104f4f9c72fc228ba1a76c08\",\n",
      "    \"job_type\": \"jplzhan.gedi-subset.main-1.0.0\",\n",
      "    \"metrics\": {},\n",
      "    \"status\": \"failed\",\n",
      "    \"time_queued\": \"2022-08-31T22:45:11+0000\",\n",
      "    \"username\": \"anonymous\"\n",
      "  }\n",
      "}\n"
     ]
    }
   ],
   "source": [
    "!python3.7 soamc_submitter.py getstatus jplzhan.gedi-subset.main-1.0.0 jplzhan.gedi-subset.main-1.0.0-bf8d52da5cf6b304104f4f9c72fc228ba1a76c08  https://sqs.us-west-2.amazonaws.com/043575651191/ades-eks-maaphec-dev-001-wpst-request\n"
   ]
  },
  {
   "cell_type": "markdown",
   "id": "9aa56b12",
   "metadata": {},
   "source": [
    "## Submit a Job\n",
    "\n",
    "- process_id: id of the process under which the job will run \n",
    "- job_payload: josn payload of the job \n"
   ]
  },
  {
   "cell_type": "code",
   "execution_count": 29,
   "id": "eb3a3bff",
   "metadata": {},
   "outputs": [
    {
     "name": "stdout",
     "output_type": "stream",
     "text": [
      "Usage: ades_query_submitter.py execute [OPTIONS] PROCESS_ID PAYLOAD_DATA\n",
      "                                       QUEUE_URL\n",
      "Try 'ades_query_submitter.py execute --help' for help.\n",
      "\n",
      "Error: Got unexpected extra arguments (stage_out:aws_secret_access_key: stage_out:aws_session_token: stage_out:region:us-west-2 aoi:{url:https://github.com/wmgeolab/geoBoundaries/raw/9f8c9e0f3aa13c5d07efaf10a829e3be024973fa/releaseData/gbOpen/GAB/ADM0/geoBoundaries-GAB-ADM0.geojson} columns:agbd, agbd_se, l2_quality_flag, l4_quality_flag, sensitivity, sensitivity_a2, lon_lowestmode, lat_lowestmode query:l2_quality_flag == 1 and l4_quality_flag == 1 and sensitivity > 0.95 and sensitivity_a2 > 0.95 limit:2 maappgt:PGT-945-qCOwrb6hBV3pNSVyFhwGA9UTeAIRzGzfZf3tbY6uSb-hpRX4G8Y1pyujdKAMjY0WA7U-904a6371b74a https://sqs.us-west-2.amazonaws.com/043575651191/ades-eks-maaphec-dev-001-wpst-request)\n"
     ]
    }
   ],
   "source": [
    "!python3.7 ades_query_submitter.py execute jplzhan.gedi-subset.main-1.0.0 {\"stage_out\":{\"s3_url\":\"s3://maap-hec-ades-out-dev/jplzhan/gedi_subset\",\"aws_access_key_id\":\"\",\"aws_secret_access_key\":\"\",\"aws_session_token\":\"\",\"region\":\"us-west-2\"},\"aoi\":{\"url\":\"https://github.com/wmgeolab/geoBoundaries/raw/9f8c9e0f3aa13c5d07efaf10a829e3be024973fa/releaseData/gbOpen/GAB/ADM0/geoBoundaries-GAB-ADM0.geojson\"},\"columns\":\"agbd, agbd_se, l2_quality_flag, l4_quality_flag, sensitivity, sensitivity_a2, lon_lowestmode, lat_lowestmode\",\"query\":\"l2_quality_flag == 1 and l4_quality_flag == 1 and sensitivity > 0.95 and sensitivity_a2 > 0.95\",\"limit\":2,\"maappgt\":\"PGT-945-qCOwrb6hBV3pNSVyFhwGA9UTeAIRzGzfZf3tbY6uSb-hpRX4G8Y1pyujdKAMjY0WA7U-904a6371b74a\"} https://sqs.us-west-2.amazonaws.com/043575651191/ades-eks-maaphec-dev-001-wpst-request"
   ]
  },
  {
   "cell_type": "markdown",
   "id": "348b6790",
   "metadata": {},
   "source": [
    "## Delete a Particular Job"
   ]
  },
  {
   "cell_type": "code",
   "execution_count": null,
   "id": "f0156c63",
   "metadata": {},
   "outputs": [],
   "source": [
    "!python3.7 ades_query_submitter.py delete-job proc1 job1"
   ]
  },
  {
   "cell_type": "markdown",
   "id": "edf3bf9a",
   "metadata": {},
   "source": [
    "## Delete a Partcular Process"
   ]
  },
  {
   "cell_type": "code",
   "execution_count": null,
   "id": "fb2900b6",
   "metadata": {},
   "outputs": [],
   "source": [
    "!python ades_query_submitter.py delete-process proc1"
   ]
  },
  {
   "cell_type": "markdown",
   "id": "0fd15113",
   "metadata": {},
   "source": [
    "## Deploy All Processes"
   ]
  },
  {
   "cell_type": "code",
   "execution_count": null,
   "id": "97dac8ab",
   "metadata": {},
   "outputs": [],
   "source": [
    "!python ades_query_submitter.py deployprocess\n"
   ]
  },
  {
   "cell_type": "markdown",
   "id": "9b713e6d",
   "metadata": {},
   "source": [
    "## Execute a Particular Process"
   ]
  },
  {
   "cell_type": "code",
   "execution_count": null,
   "id": "f769afd5",
   "metadata": {},
   "outputs": [],
   "source": [
    "!python soamc_submitter.py execute proc1"
   ]
  },
  {
   "cell_type": "markdown",
   "id": "a1e0f87f",
   "metadata": {},
   "source": []
  },
  {
   "cell_type": "code",
   "execution_count": null,
   "id": "32c07e88",
   "metadata": {},
   "outputs": [],
   "source": []
  }
 ],
 "metadata": {
  "kernelspec": {
   "display_name": "Python 3 (ipykernel)",
   "language": "python",
   "name": "python3"
  },
  "language_info": {
   "codemirror_mode": {
    "name": "ipython",
    "version": 3
   },
   "file_extension": ".py",
   "mimetype": "text/x-python",
   "name": "python",
   "nbconvert_exporter": "python",
   "pygments_lexer": "ipython3",
   "version": "3.7.8"
  }
 },
 "nbformat": 4,
 "nbformat_minor": 5
}
