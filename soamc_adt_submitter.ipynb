{
 "cells": [
  {
   "cell_type": "markdown",
   "id": "green-phase",
   "metadata": {},
   "source": [
    "\n",
    "# ADT SOAMC SQS WPS-T INTIGRATION\n",
    "## Command Line Options"
   ]
  },
  {
   "cell_type": "code",
   "execution_count": 39,
   "id": "senior-rapid",
   "metadata": {},
   "outputs": [
    {
     "name": "stdout",
     "output_type": "stream",
     "text": [
      "Requirement already satisfied: requests in /Library/Frameworks/Python.framework/Versions/3.7/lib/python3.7/site-packages (2.28.1)\n",
      "Requirement already satisfied: charset-normalizer<3,>=2 in /Library/Frameworks/Python.framework/Versions/3.7/lib/python3.7/site-packages (from requests) (2.1.0)\n",
      "Requirement already satisfied: urllib3<1.27,>=1.21.1 in /Library/Frameworks/Python.framework/Versions/3.7/lib/python3.7/site-packages (from requests) (1.26.11)\n",
      "Requirement already satisfied: idna<4,>=2.5 in /Library/Frameworks/Python.framework/Versions/3.7/lib/python3.7/site-packages (from requests) (3.3)\n",
      "Requirement already satisfied: certifi>=2017.4.17 in /Library/Frameworks/Python.framework/Versions/3.7/lib/python3.7/site-packages (from requests) (2022.6.15)\n"
     ]
    },
    {
     "name": "stderr",
     "output_type": "stream",
     "text": [
      "WARNING: You are using pip version 20.1.1; however, version 22.2.2 is available.\n",
      "You should consider upgrading via the '/Library/Frameworks/Python.framework/Versions/3.7/bin/python3.7 -m pip install --upgrade pip' command.\n"
     ]
    },
    {
     "name": "stdout",
     "output_type": "stream",
     "text": [
      "Requirement already satisfied: typer in /Library/Frameworks/Python.framework/Versions/3.7/lib/python3.7/site-packages (0.6.1)\n",
      "Requirement already satisfied: click<9.0.0,>=7.1.1 in /Library/Frameworks/Python.framework/Versions/3.7/lib/python3.7/site-packages (from typer) (8.1.3)\n",
      "Requirement already satisfied: importlib-metadata; python_version < \"3.8\" in /Library/Frameworks/Python.framework/Versions/3.7/lib/python3.7/site-packages (from click<9.0.0,>=7.1.1->typer) (4.12.0)\n",
      "Requirement already satisfied: zipp>=0.5 in /Library/Frameworks/Python.framework/Versions/3.7/lib/python3.7/site-packages (from importlib-metadata; python_version < \"3.8\"->click<9.0.0,>=7.1.1->typer) (3.8.1)\n",
      "Requirement already satisfied: typing-extensions>=3.6.4; python_version < \"3.8\" in /Library/Frameworks/Python.framework/Versions/3.7/lib/python3.7/site-packages (from importlib-metadata; python_version < \"3.8\"->click<9.0.0,>=7.1.1->typer) (4.3.0)\n"
     ]
    },
    {
     "name": "stderr",
     "output_type": "stream",
     "text": [
      "WARNING: You are using pip version 20.1.1; however, version 22.2.2 is available.\n",
      "You should consider upgrading via the '/Library/Frameworks/Python.framework/Versions/3.7/bin/python3.7 -m pip install --upgrade pip' command.\n"
     ]
    },
    {
     "name": "stdout",
     "output_type": "stream",
     "text": [
      "Requirement already satisfied: multiprocessing_logging in /Library/Frameworks/Python.framework/Versions/3.7/lib/python3.7/site-packages (0.3.3)\n"
     ]
    },
    {
     "name": "stderr",
     "output_type": "stream",
     "text": [
      "WARNING: You are using pip version 20.1.1; however, version 22.2.2 is available.\n",
      "You should consider upgrading via the '/Library/Frameworks/Python.framework/Versions/3.7/bin/python3.7 -m pip install --upgrade pip' command.\n"
     ]
    },
    {
     "name": "stdout",
     "output_type": "stream",
     "text": [
      "Requirement already satisfied: boto3 in /Library/Frameworks/Python.framework/Versions/3.7/lib/python3.7/site-packages (1.24.55)\n",
      "Requirement already satisfied: botocore<1.28.0,>=1.27.55 in /Library/Frameworks/Python.framework/Versions/3.7/lib/python3.7/site-packages (from boto3) (1.27.55)\n",
      "Requirement already satisfied: s3transfer<0.7.0,>=0.6.0 in /Library/Frameworks/Python.framework/Versions/3.7/lib/python3.7/site-packages (from boto3) (0.6.0)\n",
      "Requirement already satisfied: jmespath<2.0.0,>=0.7.1 in /Library/Frameworks/Python.framework/Versions/3.7/lib/python3.7/site-packages (from boto3) (1.0.1)\n",
      "Requirement already satisfied: urllib3<1.27,>=1.25.4 in /Library/Frameworks/Python.framework/Versions/3.7/lib/python3.7/site-packages (from botocore<1.28.0,>=1.27.55->boto3) (1.26.11)\n",
      "Requirement already satisfied: python-dateutil<3.0.0,>=2.1 in /Library/Frameworks/Python.framework/Versions/3.7/lib/python3.7/site-packages (from botocore<1.28.0,>=1.27.55->boto3) (2.8.2)\n",
      "Requirement already satisfied: six>=1.5 in /Library/Frameworks/Python.framework/Versions/3.7/lib/python3.7/site-packages (from python-dateutil<3.0.0,>=2.1->botocore<1.28.0,>=1.27.55->boto3) (1.16.0)\n"
     ]
    },
    {
     "name": "stderr",
     "output_type": "stream",
     "text": [
      "WARNING: You are using pip version 20.1.1; however, version 22.2.2 is available.\n",
      "You should consider upgrading via the '/Library/Frameworks/Python.framework/Versions/3.7/bin/python3.7 -m pip install --upgrade pip' command.\n"
     ]
    }
   ],
   "source": [
    "%%bash\n",
    "\n",
    "pip3.7 install requests\n",
    "pip3.7 install typer\n",
    "pip3.7 install multiprocessing_logging\n",
    "pip3.7 install boto3"
   ]
  },
  {
   "cell_type": "markdown",
   "id": "recreational-fifteen",
   "metadata": {},
   "source": [
    "## Config file\n",
    "\n",
    "**Config file located in /home/jovyan/soamc-python-sqs-client/sqsconfig.py**\n",
    "\n",
    "**Update the values as needed**\n",
    "\n",
    "[AWS_SQS_QUEUE]\n",
    "\n",
    "AWS_ACCOUNT_ID={{ AWS_ACCOUNT_ID }}\n",
    "\n",
    "region_name=us-west-2\n",
    "\n",
    "aws_access_key={{ AWS_ACCESS_KEY }}\n",
    "\n",
    "aws_secret_key={{ AWS_SECRET_KEY }}\n",
    "\n",
    "listener_queue = {{ SQS_LISTENER_QUEUE }}\n",
    "\n",
    "poll_interval = 60\n",
    "\n",
    "queue_visibility_timeout = 600\n",
    "\n",
    "error_queue_name = None\n",
    "\n",
    "error_queue_visibility_timeout = 600\n",
    "\n",
    "force_delete = False\n",
    "\n",
    "wait_time = 0\n",
    "\n",
    "max_number_of_messages =  1\n",
    "\n",
    "queue_url = {{ QUEUE_URL }}\n",
    "\n",
    "\n",
    "[DAEMON]\n",
    "\n",
    "PID_FILE_PATH={{ PID_FILE_PATH }}/daemon_pid.pid\n",
    "\n",
    "DAEMON_OUTPUT_OVERWRITE=False \n",
    "\n",
    "DAEMON_OUTPUT_FILE={{ DAEMON_OUTPUT_FILE_PATH }}/listener_out.log\n",
    "\n",
    "DAEMON_ERROR_FILE={{ DAEMON_OUTPUT_FILE_PATH }}/listener_error.log\n",
    "\n",
    "DAEMON_STDIN=/dev/null\n",
    "\n",
    "\n",
    "[ADES_WPS-T_SERVER]\n",
    "\n",
    "wps_server_url=http://127.0.0.1:5000"
   ]
  },
  {
   "cell_type": "code",
   "execution_count": 11,
   "id": "cc3c93df",
   "metadata": {},
   "outputs": [
    {
     "name": "stdout",
     "output_type": "stream",
     "text": [
      "/Users/mkarim/opt/anaconda3/bin/python\n"
     ]
    }
   ],
   "source": [
    "%%bash\n",
    "which python"
   ]
  },
  {
   "cell_type": "code",
   "execution_count": null,
   "id": "d9f9f4fd",
   "metadata": {},
   "outputs": [],
   "source": []
  },
  {
   "cell_type": "code",
   "execution_count": 49,
   "id": "wireless-batman",
   "metadata": {},
   "outputs": [],
   "source": [
    "CONFIG_FILER_PATH = r'/Users/mkarim/GIT/SOAMC/soamc-python-sqs-client/sqsconfig.py'"
   ]
  },
  {
   "cell_type": "markdown",
   "id": "understood-mother",
   "metadata": {},
   "source": [
    "## See How to Run"
   ]
  },
  {
   "cell_type": "code",
   "execution_count": 50,
   "id": "applied-vault",
   "metadata": {},
   "outputs": [
    {
     "name": "stdout",
     "output_type": "stream",
     "text": [
      "Usage: soamc_submitter.py [OPTIONS] COMMAND [ARGS]...\n",
      "\n",
      "Options:\n",
      "  --install-completion [bash|zsh|fish|powershell|pwsh]\n",
      "                                  Install completion for the specified shell.\n",
      "  --show-completion [bash|zsh|fish|powershell|pwsh]\n",
      "                                  Show completion for the specified shell, to\n",
      "                                  copy it or customize the installation.\n",
      "  --help                          Show this message and exit.\n",
      "\n",
      "Commands:\n",
      "  deployprocess\n",
      "  dismiss\n",
      "  execute\n",
      "  getjoblist\n",
      "  getlandingpage\n",
      "  getprocessdescription\n",
      "  getprocesses\n",
      "  getresult\n",
      "  getstatus\n",
      "  undeployprocess\n"
     ]
    }
   ],
   "source": [
    "%%bash\n",
    "python3.7 soamc_submitter.py --help\n"
   ]
  },
  {
   "cell_type": "markdown",
   "id": "oriented-biography",
   "metadata": {},
   "source": [
    "## All the Available End Points"
   ]
  },
  {
   "cell_type": "code",
   "execution_count": 48,
   "id": "abroad-chase",
   "metadata": {},
   "outputs": [
    {
     "name": "stdout",
     "output_type": "stream",
     "text": [
      "submit_message : queue_url : https://sqs.us-west-2.amazonaws.com/043575651191/ades-pbs-maaphec-dev-001-wpst-request reply_queue : <sqs_client.reply_queue.ReplyQueue object at 0x7fe5a44c7f90> data : {\"job_type\": \"getLandingPage\"}\n",
      "Queue Name : test44798986946006307299626028176028801487\n",
      "submit_message : sent\n",
      "{\n",
      "  \"ades_id\": \"ades-pbs-dev-jjacob-01\",\n",
      "  \"api_version\": \"1.0\",\n",
      "  \"landingPage\": {\n",
      "    \"links\": [\n",
      "      {\n",
      "        \"example\": \"curl http://127.0.0.1:5000/\",\n",
      "        \"href\": \"/\",\n",
      "        \"parameters\": \"\",\n",
      "        \"payload\": \"\",\n",
      "        \"title\": \"getLandingPage\",\n",
      "        \"type\": \"GET\"\n",
      "      },\n",
      "      {\n",
      "        \"example\": \"curl http://127.0.0.1:5000/processes\",\n",
      "        \"href\": \"/processes\",\n",
      "        \"parameters\": \"\",\n",
      "        \"payload\": \"\",\n",
      "        \"title\": \"getProcesses\",\n",
      "        \"type\": \"GET\"\n",
      "      },\n",
      "      {\n",
      "        \"example\": \"curl -X POST http://127.0.0.1:5000/processes/proc=https://public-url/to-your-application-descriptor.json\",\n",
      "        \"href\": \"/processes\",\n",
      "        \"parameters\": \"proc=<url-to-app.json>\",\n",
      "        \"payload\": \"\",\n",
      "        \"title\": \"deployProcess\",\n",
      "        \"type\": \"POST\"\n",
      "      },\n",
      "      {\n",
      "        \"example\": \"curl http://127.0.0.1:5000/processes/<your-process-id-from-getProcesses>\",\n",
      "        \"href\": \"/processes/<procID>\",\n",
      "        \"parameters\": \"\",\n",
      "        \"payload\": \"\",\n",
      "        \"title\": \"getProcessDescription\",\n",
      "        \"type\": \"GET\"\n",
      "      },\n",
      "      {\n",
      "        \"example\": \"curl -X DELETE http://127.0.0.1:5000/processes/<your-process-id-from-getProcesses>\",\n",
      "        \"href\": \"/processes/<procID>\",\n",
      "        \"parameters\": \"\",\n",
      "        \"payload\": \"\",\n",
      "        \"title\": \"undeployProcess\",\n",
      "        \"type\": \"DELETE\"\n",
      "      },\n",
      "      {\n",
      "        \"example\": \"curl http://127.0.0.1:5000/processes/<your-process-id-from-getProcesses>/jobs\",\n",
      "        \"href\": \"/processes/<procID>/jobs\",\n",
      "        \"parameters\": \"\",\n",
      "        \"payload\": \"\",\n",
      "        \"title\": \"getJobList\",\n",
      "        \"type\": \"GET\"\n",
      "      },\n",
      "      {\n",
      "        \"example\": \"curl -H \\\"Content-Type: application/json\\\" -X POST -d '{\\\"param1\\\"=\\\"value1\\\", \\\"param2\\\"=\\\"value2\\\"}' http://127.0.0.1:5000/processes/<your-process-id-from-getProcesses>/jobs\",\n",
      "        \"href\": \"/processes/<procID>/jobs\",\n",
      "        \"parameters\": \"user=<username>\",\n",
      "        \"payload\": \"<workflow-inputs>\",\n",
      "        \"title\": \"execute\",\n",
      "        \"type\": \"POST\"\n",
      "      },\n",
      "      {\n",
      "        \"example\": \"curl http://127.0.0.1:5000/processes/<your-process-id-from-getProcesses>/jobs/<your-job-id-from-getJobList>\",\n",
      "        \"href\": \"/processes/<procID>/jobs/<jobID>\",\n",
      "        \"parameters\": \"\",\n",
      "        \"payload\": \"\",\n",
      "        \"title\": \"getStatus\",\n",
      "        \"type\": \"GET\"\n",
      "      },\n",
      "      {\n",
      "        \"example\": \"curl -X DELETE http://127.0.0.1:5000/processes/<your-process-id-from-getProcesses>/jobs/<your-job-id-from-getJobList>\",\n",
      "        \"href\": \"/processes/<procID>/jobs/<jobID>\",\n",
      "        \"parameters\": \"\",\n",
      "        \"payload\": \"\",\n",
      "        \"title\": \"dismiss\",\n",
      "        \"type\": \"DELETE\"\n",
      "      },\n",
      "      {\n",
      "        \"example\": \"curl http://127.0.0.1:5000/processes/<your-process-id-from-getProcesses>/jobs/<your-job-id-from-getJobList>/result\",\n",
      "        \"href\": \"/processes/<procID>/jobs/<jobID>/result\",\n",
      "        \"parameters\": \"\",\n",
      "        \"payload\": \"\",\n",
      "        \"title\": \"getResult\",\n",
      "        \"type\": \"GET\"\n",
      "      }\n",
      "    ]\n",
      "  }\n",
      "}\n"
     ]
    }
   ],
   "source": [
    "%%bash \n",
    "python3.7 soamc_submitter.py getlandingpage\n"
   ]
  },
  {
   "cell_type": "markdown",
   "id": "brown-novel",
   "metadata": {},
   "source": [
    "## Get All the Processs"
   ]
  },
  {
   "cell_type": "code",
   "execution_count": 43,
   "id": "painful-beaver",
   "metadata": {},
   "outputs": [
    {
     "name": "stdout",
     "output_type": "stream",
     "text": [
      "submit_message : queue_url : https://sqs.us-west-2.amazonaws.com/043575651191/ades-pbs-maaphec-dev-001-wpst-request reply_queue : <sqs_client.reply_queue.ReplyQueue object at 0x7fcc1ef55050> data : {\"job_type\": \"getProcesses\"}\n",
      "Queue Name : test335645080952020588372782532762252813124\n",
      "submit_message : sent\n",
      "{\n",
      "  \"ades_id\": \"ades-pbs-dev-jjacob-01\",\n",
      "  \"api_version\": \"1.0\",\n",
      "  \"processes\": [\n",
      "    {\n",
      "      \"abstract\": \"Application Package Demo\",\n",
      "      \"executionUnit\": \"docker://pymonger/downsample-dem:0.0.1\",\n",
      "      \"id\": \"downsample-dem-workflow-0.0.1\",\n",
      "      \"immediateDeployment\": \"true\",\n",
      "      \"jobControlOptions\": [\n",
      "        \"async-execute\"\n",
      "      ],\n",
      "      \"keywords\": \"Demo\",\n",
      "      \"outputTransmission\": [\n",
      "        \"reference\"\n",
      "      ],\n",
      "      \"owsContextURL\": \"https://raw.githubusercontent.com/pymonger/downsample-dem/0.0.1/workflow.cwl\",\n",
      "      \"processVersion\": \"0.0.1\",\n",
      "      \"title\": \"Downsample Copernicus DEM\"\n",
      "    },\n",
      "    {\n",
      "      \"abstract\": \"Application Package Demo\",\n",
      "      \"executionUnit\": \"docker://jplzhan/ci-generated-images:jplzhan.gedi-subset.main\",\n",
      "      \"id\": \"jplzhan.gedi-subset.main-1.0.0\",\n",
      "      \"immediateDeployment\": \"true\",\n",
      "      \"jobControlOptions\": [\n",
      "        \"async-execute\"\n",
      "      ],\n",
      "      \"keywords\": \"Demo\",\n",
      "      \"outputTransmission\": [\n",
      "        \"reference\"\n",
      "      ],\n",
      "      \"owsContextURL\": \"https://raw.githubusercontent.com/jplzhan/artifact-deposit-repo/main/jplzhan/gedi-subset/main/workflow.cwl\",\n",
      "      \"processVersion\": \"1.0.0\",\n",
      "      \"title\": \"Added a setup script for interactively debugging this image.\"\n",
      "    }\n",
      "  ]\n",
      "}\n"
     ]
    }
   ],
   "source": [
    "!python3.7 soamc_submitter.py getprocesses"
   ]
  },
  {
   "cell_type": "markdown",
   "id": "experimental-administration",
   "metadata": {},
   "source": [
    "## List all the Jobs of a Process"
   ]
  },
  {
   "cell_type": "code",
   "execution_count": 44,
   "id": "natural-taxation",
   "metadata": {},
   "outputs": [
    {
     "name": "stdout",
     "output_type": "stream",
     "text": [
      "submit_message : queue_url : https://sqs.us-west-2.amazonaws.com/043575651191/ades-pbs-maaphec-dev-001-wpst-request reply_queue : <sqs_client.reply_queue.ReplyQueue object at 0x7feaf7d28f10> data : {\"job_type\": \"getJobList\", \"process_id\": \"downsample-dem-workflow-0.0.1\"}\n",
      "Queue Name : test34812206251438232044867662466440685908\n",
      "submit_message : sent\n",
      "{\n",
      "  \"ades_id\": \"ades-pbs-dev-jjacob-01\",\n",
      "  \"api_version\": \"1.0\",\n",
      "  \"jobs\": [\n",
      "    {\n",
      "      \"backend_info\": \"{\\\"pbs_job_id\\\": \\\"14363396.pbspl1\\\", \\\"status\\\": \\\"accepted\\\", \\\"error\\\": \\\"\\\"}\",\n",
      "      \"inputs\": \"{\\\"workflow_aws_access_key_id\\\": \\\"none\\\", \\\"workflow_aws_secret_access_key\\\": \\\"none\\\", \\\"workflow_input_url\\\": \\\"s3://copernicus-dem-30m/Copernicus_DSM_COG_10_N21_00_W159_00_DEM/Copernicus_DSM_COG_10_N21_00_W159_00_DEM.tif\\\", \\\"workflow_min_stress_time\\\": 15, \\\"workflow_max_stress_time\\\": 30, \\\"workflow_base_dataset_url\\\": \\\"s3://hysds-dataset-bucket-gman-test/test\\\"}\",\n",
      "      \"jobID\": \"downsample-dem-workflow-0.0.1-1006555aa1bdb93853678b1f5c05c0b6a92bcb0d\",\n",
      "      \"jobOwner\": \"jjacob\",\n",
      "      \"metrics\": \"{\\\"stage_in\\\": {\\\"time_start\\\": \\\"2022-08-21T06:37:43+0000\\\", \\\"time_end\\\": \\\"2022-08-21T06:37:55+0000\\\", \\\"time_duration_seconds\\\": 12.0, \\\"work_dir_size_gb\\\": 0.804604159668088, \\\"memory_max_gb\\\": -999.0, \\\"exit_code\\\": 0, \\\"node\\\": {\\\"node_type\\\": \\\"broadwell\\\", \\\"cores\\\": 1, \\\"memory_gb\\\": 125.30337905883789, \\\"hostname\\\": \\\"r623i0n0.p4.nas.nasa.gov\\\", \\\"ip_address\\\": \\\"10.150.37.118\\\", \\\"disk_space_free_gb\\\": 2381834.4552001953}}, \\\"downsample_dem\\\": {\\\"time_start\\\": \\\"2022-08-21T06:37:55+0000\\\", \\\"time_end\\\": \\\"2022-08-21T06:38:18+0000\\\", \\\"time_duration_seconds\\\": 23.0, \\\"work_dir_size_gb\\\": 0.804604159668088, \\\"memory_max_gb\\\": -999.0, \\\"exit_code\\\": 0, \\\"node\\\": {\\\"node_type\\\": \\\"broadwell\\\", \\\"cores\\\": 1, \\\"memory_gb\\\": 125.30337905883789, \\\"hostname\\\": \\\"r623i0n0.p4.nas.nasa.gov\\\", \\\"ip_address\\\": \\\"10.150.37.118\\\", \\\"disk_space_free_gb\\\": 2381834.4552001953}}, \\\"stage_out\\\": {\\\"time_start\\\": \\\"2022-08-21T06:38:18+0000\\\", \\\"time_end\\\": \\\"2022-08-21T06:38:22+0000\\\", \\\"time_duration_seconds\\\": 4.0, \\\"work_dir_size_gb\\\": 0.804604159668088, \\\"memory_max_gb\\\": -999.0, \\\"exit_code\\\": 1, \\\"node\\\": {\\\"node_type\\\": \\\"broadwell\\\", \\\"cores\\\": 1, \\\"memory_gb\\\": 125.30337905883789, \\\"hostname\\\": \\\"r623i0n0.p4.nas.nasa.gov\\\", \\\"ip_address\\\": \\\"10.150.37.118\\\", \\\"disk_space_free_gb\\\": 2381834.4552001953}}, \\\"workflow\\\": {\\\"time_start\\\": \\\"2022-08-21T06:37:43+0000\\\", \\\"time_end\\\": \\\"2022-08-21T06:38:22+0000\\\", \\\"time_duration_seconds\\\": 39.0, \\\"work_dir_size_gb\\\": 2.413812479004264, \\\"memory_max_gb\\\": -999.0, \\\"exit_code\\\": 1, \\\"node\\\": {\\\"node_type\\\": \\\"broadwell\\\", \\\"cores\\\": 1, \\\"memory_gb\\\": 125.30337905883789, \\\"hostname\\\": \\\"r623i0n0.p4.nas.nasa.gov\\\", \\\"ip_address\\\": \\\"10.150.37.118\\\", \\\"disk_space_free_gb\\\": 2381834.4552001953}}}\",\n",
      "      \"procID\": \"downsample-dem-workflow-0.0.1\",\n",
      "      \"status\": \"failed\",\n",
      "      \"timeCreated\": \"2022-08-21T06:36:52+0000\",\n",
      "      \"timeUpdated\": \"2022-08-21T06:38:40\"\n",
      "    },\n",
      "    {\n",
      "      \"backend_info\": \"{\\\"pbs_job_id\\\": \\\"14376307.pbspl1\\\", \\\"status\\\": \\\"accepted\\\", \\\"error\\\": \\\"\\\"}\",\n",
      "      \"inputs\": \"{\\\"workflow_aws_access_key_id\\\": \\\"none\\\", \\\"workflow_aws_secret_access_key\\\": \\\"none\\\", \\\"workflow_input_url\\\": \\\"s3://copernicus-dem-30m/Copernicus_DSM_COG_10_N21_00_W159_00_DEM/Copernicus_DSM_COG_10_N21_00_W159_00_DEM.tif\\\", \\\"workflow_min_stress_time\\\": 15, \\\"workflow_max_stress_time\\\": 30, \\\"workflow_base_dataset_url\\\": \\\"s3://hysds-dataset-bucket-gman-test/test\\\"}\",\n",
      "      \"jobID\": \"downsample-dem-workflow-0.0.1-1c4ea122ed2204ba9f3fe8f30959b7e77cfd36d5\",\n",
      "      \"jobOwner\": \"jjacob\",\n",
      "      \"metrics\": \"{}\",\n",
      "      \"procID\": \"downsample-dem-workflow-0.0.1\",\n",
      "      \"status\": \"dismissed\",\n",
      "      \"timeCreated\": \"2022-08-23T16:27:08+0000\",\n",
      "      \"timeUpdated\": \"2022-08-23T16:29:10\"\n",
      "    }\n",
      "  ]\n",
      "}\n"
     ]
    }
   ],
   "source": [
    "!python3.7 soamc_submitter.py getjoblist downsample-dem-workflow-0.0.1\n"
   ]
  },
  {
   "cell_type": "markdown",
   "id": "twelve-diagram",
   "metadata": {},
   "source": [
    "## Job-Result of a Particular Job"
   ]
  },
  {
   "cell_type": "code",
   "execution_count": 45,
   "id": "sustainable-overview",
   "metadata": {},
   "outputs": [
    {
     "name": "stdout",
     "output_type": "stream",
     "text": [
      "downsample-dem-workflow-0.0.1\n",
      "submit_message : queue_url : https://sqs.us-west-2.amazonaws.com/043575651191/ades-pbs-maaphec-dev-001-wpst-request reply_queue : <sqs_client.reply_queue.ReplyQueue object at 0x7fe3ef547f90> data : {\"job_type\": \"getResult\", \"process_id\": \"downsample-dem-workflow-0.0.1\", \"job_id\": \"downsample-dem-workflow-0.0.1-d4258c59f85b8a87c03b5ce1b9088f5c2556d350\"}\n",
      "Queue Name : test105485069353825814668399515393614427040\n",
      "submit_message : sent\n",
      "{\n",
      "  \"Error\": \"Expecting value: line 1 column 1 (char 0)\"\n",
      "}\n"
     ]
    }
   ],
   "source": [
    "!python3.7 soamc_submitter.py getresult downsample-dem-workflow-0.0.1 downsample-dem-workflow-0.0.1-d4258c59f85b8a87c03b5ce1b9088f5c2556d350"
   ]
  },
  {
   "cell_type": "markdown",
   "id": "invalid-chorus",
   "metadata": {},
   "source": [
    "## Job-Status of a Particular Job"
   ]
  },
  {
   "cell_type": "code",
   "execution_count": 34,
   "id": "proof-corrections",
   "metadata": {},
   "outputs": [
    {
     "name": "stdout",
     "output_type": "stream",
     "text": [
      "downsample-dem-workflow-0.0.1\n",
      "submit_message : queue_url : https://sqs.us-west-2.amazonaws.com/043575651191/ades-pbs-maaphec-dev-001-wpst-request reply_queue : <sqs_client.reply_queue.ReplyQueue object at 0x7f83af548f10> data : {\"job_type\": \"getStatus\", \"process_id\": \"downsample-dem-workflow-0.0.1\", \"job_id\": \"downsample-dem-workflow-0.0.1-d4258c59f85b8a87c03b5ce1b9088f5c2556d350\"}\n",
      "Queue Name : test147564191819694799784199829139952804623\n",
      "submit_message : sent\n",
      "{\n",
      "  \"statusInfo\": {\n",
      "    \"jobID\": \"downsample-dem-workflow-0.0.1-d4258c59f85b8a87c03b5ce1b9088f5c2556d350\",\n",
      "    \"metrics\": {},\n",
      "    \"status\": \"failed\"\n",
      "  }\n",
      "}\n"
     ]
    }
   ],
   "source": [
    "!python3.7 soamc_submitter.py getstatus downsample-dem-workflow-0.0.1 downsample-dem-workflow-0.0.1-d4258c59f85b8a87c03b5ce1b9088f5c2556d350"
   ]
  },
  {
   "cell_type": "markdown",
   "id": "comparative-boards",
   "metadata": {},
   "source": [
    "## Delete a Particular Job"
   ]
  },
  {
   "cell_type": "code",
   "execution_count": null,
   "id": "western-income",
   "metadata": {},
   "outputs": [],
   "source": [
    "!python3.7 soamc_submitter.py delete-job proc1 job1"
   ]
  },
  {
   "cell_type": "markdown",
   "id": "continent-forestry",
   "metadata": {},
   "source": [
    "## Delete a Partcular Process"
   ]
  },
  {
   "cell_type": "code",
   "execution_count": null,
   "id": "south-coverage",
   "metadata": {},
   "outputs": [],
   "source": [
    "!python soamc_submitter.py delete-process proc1"
   ]
  },
  {
   "cell_type": "markdown",
   "id": "canadian-pastor",
   "metadata": {},
   "source": [
    "## Deploy All Processes"
   ]
  },
  {
   "cell_type": "code",
   "execution_count": null,
   "id": "forty-hearing",
   "metadata": {},
   "outputs": [],
   "source": [
    "!python soamc_submitter.py deployprocess\n"
   ]
  },
  {
   "cell_type": "markdown",
   "id": "fancy-wallace",
   "metadata": {},
   "source": [
    "## Execute a Particular Process"
   ]
  },
  {
   "cell_type": "code",
   "execution_count": null,
   "id": "insured-contributor",
   "metadata": {},
   "outputs": [],
   "source": [
    "!python soamc_submitter.py execute proc1"
   ]
  },
  {
   "cell_type": "code",
   "execution_count": null,
   "id": "separate-regular",
   "metadata": {},
   "outputs": [],
   "source": []
  }
 ],
 "metadata": {
  "kernelspec": {
   "display_name": "Python 3 (ipykernel)",
   "language": "python",
   "name": "python3"
  },
  "language_info": {
   "codemirror_mode": {
    "name": "ipython",
    "version": 3
   },
   "file_extension": ".py",
   "mimetype": "text/x-python",
   "name": "python",
   "nbconvert_exporter": "python",
   "pygments_lexer": "ipython3",
   "version": "3.9.12"
  }
 },
 "nbformat": 4,
 "nbformat_minor": 5
}
