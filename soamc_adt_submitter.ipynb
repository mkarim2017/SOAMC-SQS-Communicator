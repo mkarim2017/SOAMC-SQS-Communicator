{
 "cells": [
  {
   "cell_type": "markdown",
   "id": "green-phase",
   "metadata": {},
   "source": [
    "\n",
    "# ADT SOAMC SQS WPS-T INTIGRATION\n",
    "## Command Line Options"
   ]
  },
  {
   "cell_type": "code",
   "execution_count": 19,
   "id": "senior-rapid",
   "metadata": {},
   "outputs": [
    {
     "name": "stdout",
     "output_type": "stream",
     "text": [
      "Requirement already satisfied: requests in /Library/Frameworks/Python.framework/Versions/3.7/lib/python3.7/site-packages (2.28.1)\n",
      "Requirement already satisfied: certifi>=2017.4.17 in /Library/Frameworks/Python.framework/Versions/3.7/lib/python3.7/site-packages (from requests) (2022.6.15)\n",
      "Requirement already satisfied: idna<4,>=2.5 in /Library/Frameworks/Python.framework/Versions/3.7/lib/python3.7/site-packages (from requests) (3.3)\n",
      "Requirement already satisfied: charset-normalizer<3,>=2 in /Library/Frameworks/Python.framework/Versions/3.7/lib/python3.7/site-packages (from requests) (2.1.0)\n",
      "Requirement already satisfied: urllib3<1.27,>=1.21.1 in /Library/Frameworks/Python.framework/Versions/3.7/lib/python3.7/site-packages (from requests) (1.26.11)\n"
     ]
    },
    {
     "name": "stderr",
     "output_type": "stream",
     "text": [
      "WARNING: You are using pip version 20.1.1; however, version 22.2.2 is available.\n",
      "You should consider upgrading via the '/Library/Frameworks/Python.framework/Versions/3.7/bin/python3.7 -m pip install --upgrade pip' command.\n"
     ]
    },
    {
     "name": "stdout",
     "output_type": "stream",
     "text": [
      "Requirement already satisfied: typer in /Library/Frameworks/Python.framework/Versions/3.7/lib/python3.7/site-packages (0.6.1)\n",
      "Requirement already satisfied: click<9.0.0,>=7.1.1 in /Library/Frameworks/Python.framework/Versions/3.7/lib/python3.7/site-packages (from typer) (8.1.3)\n",
      "Requirement already satisfied: importlib-metadata; python_version < \"3.8\" in /Library/Frameworks/Python.framework/Versions/3.7/lib/python3.7/site-packages (from click<9.0.0,>=7.1.1->typer) (4.12.0)\n",
      "Requirement already satisfied: typing-extensions>=3.6.4; python_version < \"3.8\" in /Library/Frameworks/Python.framework/Versions/3.7/lib/python3.7/site-packages (from importlib-metadata; python_version < \"3.8\"->click<9.0.0,>=7.1.1->typer) (4.3.0)\n",
      "Requirement already satisfied: zipp>=0.5 in /Library/Frameworks/Python.framework/Versions/3.7/lib/python3.7/site-packages (from importlib-metadata; python_version < \"3.8\"->click<9.0.0,>=7.1.1->typer) (3.8.1)\n"
     ]
    },
    {
     "name": "stderr",
     "output_type": "stream",
     "text": [
      "WARNING: You are using pip version 20.1.1; however, version 22.2.2 is available.\n",
      "You should consider upgrading via the '/Library/Frameworks/Python.framework/Versions/3.7/bin/python3.7 -m pip install --upgrade pip' command.\n"
     ]
    },
    {
     "name": "stdout",
     "output_type": "stream",
     "text": [
      "Requirement already satisfied: multiprocessing_logging in /Library/Frameworks/Python.framework/Versions/3.7/lib/python3.7/site-packages (0.3.3)\n"
     ]
    },
    {
     "name": "stderr",
     "output_type": "stream",
     "text": [
      "WARNING: You are using pip version 20.1.1; however, version 22.2.2 is available.\n",
      "You should consider upgrading via the '/Library/Frameworks/Python.framework/Versions/3.7/bin/python3.7 -m pip install --upgrade pip' command.\n"
     ]
    },
    {
     "name": "stdout",
     "output_type": "stream",
     "text": [
      "Collecting boto3\n",
      "  Using cached boto3-1.24.55-py3-none-any.whl (132 kB)\n",
      "Collecting botocore<1.28.0,>=1.27.55\n",
      "  Using cached botocore-1.27.55-py3-none-any.whl (9.1 MB)\n",
      "Collecting jmespath<2.0.0,>=0.7.1\n",
      "  Using cached jmespath-1.0.1-py3-none-any.whl (20 kB)\n",
      "Collecting s3transfer<0.7.0,>=0.6.0\n",
      "  Using cached s3transfer-0.6.0-py3-none-any.whl (79 kB)\n",
      "Collecting python-dateutil<3.0.0,>=2.1\n",
      "  Using cached python_dateutil-2.8.2-py2.py3-none-any.whl (247 kB)\n",
      "Requirement already satisfied: urllib3<1.27,>=1.25.4 in /Library/Frameworks/Python.framework/Versions/3.7/lib/python3.7/site-packages (from botocore<1.28.0,>=1.27.55->boto3) (1.26.11)\n",
      "Collecting six>=1.5\n",
      "  Using cached six-1.16.0-py2.py3-none-any.whl (11 kB)\n",
      "Installing collected packages: six, python-dateutil, jmespath, botocore, s3transfer, boto3\n",
      "Successfully installed boto3-1.24.55 botocore-1.27.55 jmespath-1.0.1 python-dateutil-2.8.2 s3transfer-0.6.0 six-1.16.0\n"
     ]
    },
    {
     "name": "stderr",
     "output_type": "stream",
     "text": [
      "WARNING: You are using pip version 20.1.1; however, version 22.2.2 is available.\n",
      "You should consider upgrading via the '/Library/Frameworks/Python.framework/Versions/3.7/bin/python3.7 -m pip install --upgrade pip' command.\n"
     ]
    }
   ],
   "source": [
    "%%bash\n",
    "\n",
    "pip3.7 install requests\n",
    "pip3.7 install typer\n",
    "pip3.7 install multiprocessing_logging\n",
    "pip3.7 install boto3"
   ]
  },
  {
   "cell_type": "markdown",
   "id": "recreational-fifteen",
   "metadata": {},
   "source": [
    "## Config file\n",
    "\n",
    "**Config file located in /home/jovyan/soamc-python-sqs-client/sqsconfig.py**\n",
    "\n",
    "**Update the values as needed**\n",
    "\n",
    "[AWS_SQS_QUEUE]\n",
    "\n",
    "AWS_ACCOUNT_ID={{ AWS_ACCOUNT_ID }}\n",
    "\n",
    "region_name=us-west-2\n",
    "\n",
    "aws_access_key={{ AWS_ACCESS_KEY }}\n",
    "\n",
    "aws_secret_key={{ AWS_SECRET_KEY }}\n",
    "\n",
    "listener_queue = {{ SQS_LISTENER_QUEUE }}\n",
    "\n",
    "poll_interval = 60\n",
    "\n",
    "queue_visibility_timeout = 600\n",
    "\n",
    "error_queue_name = None\n",
    "\n",
    "error_queue_visibility_timeout = 600\n",
    "\n",
    "force_delete = False\n",
    "\n",
    "wait_time = 0\n",
    "\n",
    "max_number_of_messages =  1\n",
    "\n",
    "queue_url = {{ QUEUE_URL }}\n",
    "\n",
    "\n",
    "[DAEMON]\n",
    "\n",
    "PID_FILE_PATH={{ PID_FILE_PATH }}/daemon_pid.pid\n",
    "\n",
    "DAEMON_OUTPUT_OVERWRITE=False \n",
    "\n",
    "DAEMON_OUTPUT_FILE={{ DAEMON_OUTPUT_FILE_PATH }}/listener_out.log\n",
    "\n",
    "DAEMON_ERROR_FILE={{ DAEMON_OUTPUT_FILE_PATH }}/listener_error.log\n",
    "\n",
    "DAEMON_STDIN=/dev/null\n",
    "\n",
    "\n",
    "[ADES_WPS-T_SERVER]\n",
    "\n",
    "wps_server_url=http://127.0.0.1:5000"
   ]
  },
  {
   "cell_type": "code",
   "execution_count": 11,
   "id": "cc3c93df",
   "metadata": {},
   "outputs": [
    {
     "name": "stdout",
     "output_type": "stream",
     "text": [
      "/Users/mkarim/opt/anaconda3/bin/python\n"
     ]
    }
   ],
   "source": [
    "%%bash\n",
    "which python"
   ]
  },
  {
   "cell_type": "code",
   "execution_count": null,
   "id": "d9f9f4fd",
   "metadata": {},
   "outputs": [],
   "source": []
  },
  {
   "cell_type": "code",
   "execution_count": 4,
   "id": "wireless-batman",
   "metadata": {},
   "outputs": [],
   "source": [
    "CONFIG_FILER_PATH = r'/Users/mkarim/GIT/SOAMC/soamc-python-sqs-client/sqsconfig.py'"
   ]
  },
  {
   "cell_type": "markdown",
   "id": "understood-mother",
   "metadata": {},
   "source": [
    "## See How to Run"
   ]
  },
  {
   "cell_type": "code",
   "execution_count": 20,
   "id": "applied-vault",
   "metadata": {},
   "outputs": [
    {
     "name": "stdout",
     "output_type": "stream",
     "text": [
      "Usage: soamc_submitter.py [OPTIONS] COMMAND [ARGS]...\n",
      "\n",
      "Options:\n",
      "  --install-completion [bash|zsh|fish|powershell|pwsh]\n",
      "                                  Install completion for the specified shell.\n",
      "  --show-completion [bash|zsh|fish|powershell|pwsh]\n",
      "                                  Show completion for the specified shell, to\n",
      "                                  copy it or customize the installation.\n",
      "  --help                          Show this message and exit.\n",
      "\n",
      "Commands:\n",
      "  deployprocess\n",
      "  dismiss\n",
      "  execute\n",
      "  getjoblist\n",
      "  getlandingpage\n",
      "  getprocessdescription\n",
      "  getprocesses\n",
      "  getresult\n",
      "  getstatus\n",
      "  undeployprocess\n"
     ]
    }
   ],
   "source": [
    "%%bash\n",
    "python3.7 soamc_submitter.py --help\n"
   ]
  },
  {
   "cell_type": "markdown",
   "id": "oriented-biography",
   "metadata": {},
   "source": [
    "## All the Available End Points"
   ]
  },
  {
   "cell_type": "code",
   "execution_count": 21,
   "id": "abroad-chase",
   "metadata": {},
   "outputs": [
    {
     "name": "stdout",
     "output_type": "stream",
     "text": [
      "submit_message : queue_url : https://sqs.us-west-2.amazonaws.com/043575651191/ades-pbs-maaphec-dev-001-wpst-request reply_queue : <sqs_client.reply_queue.ReplyQueue object at 0x7ff6645bff50> data : {\"job_type\": \"getLandingPage\"}\n",
      "Queue Name : test185358878529386269309614877246567479827\n",
      "submit_message : sent\n",
      "{\n",
      "  \"Error\": \"Expecting value: line 1 column 1 (char 0)\"\n",
      "}\n"
     ]
    }
   ],
   "source": [
    "%%bash \n",
    "python3.7 soamc_submitter.py getlandingpage\n"
   ]
  },
  {
   "cell_type": "markdown",
   "id": "brown-novel",
   "metadata": {},
   "source": [
    "## Get All the Processs"
   ]
  },
  {
   "cell_type": "code",
   "execution_count": 5,
   "id": "painful-beaver",
   "metadata": {},
   "outputs": [
    {
     "name": "stdout",
     "output_type": "stream",
     "text": [
      "['AWS_SQS_QUEUE', 'DAEMON', 'ADES_WPS-T_SERVER']\n",
      "{\n",
      "  \"processCollection\": {\n",
      "    \"processes\": [\n",
      "      {\n",
      "        \"processSummary\": {\n",
      "          \"abstract\": \"proc1_abstract\",\n",
      "          \"id\": \"proc1\",\n",
      "          \"keywords\": \"proc1_keywords\",\n",
      "          \"title\": \"proc1 title\"\n",
      "        }\n",
      "      },\n",
      "      {\n",
      "        \"processSummary\": {\n",
      "          \"abstract\": \"proc2_abstract\",\n",
      "          \"id\": \"proc2\",\n",
      "          \"keywords\": \"proc2_keywords\",\n",
      "          \"title\": \"proc2 title\"\n",
      "        }\n",
      "      }\n",
      "    ]\n",
      "  }\n",
      "}\n"
     ]
    }
   ],
   "source": [
    "!python3.7 soamc_submitter.py getprocesses"
   ]
  },
  {
   "cell_type": "markdown",
   "id": "experimental-administration",
   "metadata": {},
   "source": [
    "## List all the Jobs of a Process"
   ]
  },
  {
   "cell_type": "code",
   "execution_count": 23,
   "id": "natural-taxation",
   "metadata": {},
   "outputs": [
    {
     "name": "stdout",
     "output_type": "stream",
     "text": [
      "submit_message : queue_url : https://sqs.us-west-2.amazonaws.com/043575651191/ades-pbs-maaphec-dev-001-wpst-request reply_queue : <sqs_client.reply_queue.ReplyQueue object at 0x7fe44f54efd0> data : {\"job_type\": \"getJobList\", \"process_id\": \"proc1\"}\n",
      "Queue Name : test187151136834756588308425865431611178705\n",
      "submit_message : sent\n",
      "{\n",
      "  \"Error\": \"Expecting value: line 1 column 1 (char 0)\"\n",
      "}\n"
     ]
    }
   ],
   "source": [
    "!python3.7 soamc_submitter.py getjoblist proc1\n"
   ]
  },
  {
   "cell_type": "markdown",
   "id": "twelve-diagram",
   "metadata": {},
   "source": [
    "## Job-Result of a Particular Job"
   ]
  },
  {
   "cell_type": "code",
   "execution_count": 8,
   "id": "sustainable-overview",
   "metadata": {},
   "outputs": [
    {
     "name": "stdout",
     "output_type": "stream",
     "text": [
      "['AWS_SQS_QUEUE', 'DAEMON', 'ADES_WPS-T_SERVER']\n",
      "proc1\n",
      "{\n",
      "  \"Error:\": \"Timeout\"\n",
      "}\n"
     ]
    }
   ],
   "source": [
    "!python3.7 soamc_submitter.py getresult proc1 job1"
   ]
  },
  {
   "cell_type": "markdown",
   "id": "invalid-chorus",
   "metadata": {},
   "source": [
    "## Job-Status of a Particular Job"
   ]
  },
  {
   "cell_type": "code",
   "execution_count": 9,
   "id": "proof-corrections",
   "metadata": {},
   "outputs": [
    {
     "name": "stdout",
     "output_type": "stream",
     "text": [
      "['AWS_SQS_QUEUE', 'DAEMON', 'ADES_WPS-T_SERVER']\n",
      "proc1\n",
      "{\n",
      "  \"Error:\": \"Timeout\"\n",
      "}\n"
     ]
    }
   ],
   "source": [
    "!python3.7 soamc_submitter.py getstatus proc1 job1"
   ]
  },
  {
   "cell_type": "markdown",
   "id": "comparative-boards",
   "metadata": {},
   "source": [
    "## Delete a Particular Job"
   ]
  },
  {
   "cell_type": "code",
   "execution_count": null,
   "id": "western-income",
   "metadata": {},
   "outputs": [],
   "source": [
    "!python3.7 soamc_submitter.py delete-job proc1 job1"
   ]
  },
  {
   "cell_type": "markdown",
   "id": "continent-forestry",
   "metadata": {},
   "source": [
    "## Delete a Partcular Process"
   ]
  },
  {
   "cell_type": "code",
   "execution_count": null,
   "id": "south-coverage",
   "metadata": {},
   "outputs": [],
   "source": [
    "!python soamc_submitter.py delete-process proc1"
   ]
  },
  {
   "cell_type": "markdown",
   "id": "canadian-pastor",
   "metadata": {},
   "source": [
    "## Deploy All Processes"
   ]
  },
  {
   "cell_type": "code",
   "execution_count": null,
   "id": "forty-hearing",
   "metadata": {},
   "outputs": [],
   "source": [
    "!python soamc_submitter.py deployprocess\n"
   ]
  },
  {
   "cell_type": "markdown",
   "id": "fancy-wallace",
   "metadata": {},
   "source": [
    "## Execute a Particular Process"
   ]
  },
  {
   "cell_type": "code",
   "execution_count": null,
   "id": "insured-contributor",
   "metadata": {},
   "outputs": [],
   "source": [
    "!python soamc_submitter.py execute proc1"
   ]
  },
  {
   "cell_type": "code",
   "execution_count": null,
   "id": "separate-regular",
   "metadata": {},
   "outputs": [],
   "source": []
  }
 ],
 "metadata": {
  "kernelspec": {
   "display_name": "Python 3 (ipykernel)",
   "language": "python",
   "name": "python3"
  },
  "language_info": {
   "codemirror_mode": {
    "name": "ipython",
    "version": 3
   },
   "file_extension": ".py",
   "mimetype": "text/x-python",
   "name": "python",
   "nbconvert_exporter": "python",
   "pygments_lexer": "ipython3",
   "version": "3.9.12"
  }
 },
 "nbformat": 4,
 "nbformat_minor": 5
}
