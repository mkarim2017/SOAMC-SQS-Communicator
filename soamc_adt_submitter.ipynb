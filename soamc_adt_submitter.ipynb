{
 "cells": [
  {
   "cell_type": "markdown",
   "id": "389d2b84",
   "metadata": {},
   "source": [
    "\n",
    "# ADT SOAMC SQS WPS-T INTIGRATION\n",
    "## Command Line Options"
   ]
  },
  {
   "cell_type": "code",
   "execution_count": 30,
   "id": "7b2b59e0",
   "metadata": {},
   "outputs": [
    {
     "name": "stdout",
     "output_type": "stream",
     "text": [
      "Requirement already satisfied: requests in /opt/conda/lib/python3.7/site-packages (2.24.0)\n",
      "Requirement already satisfied: chardet<4,>=3.0.2 in /opt/conda/lib/python3.7/site-packages (from requests) (3.0.4)\n",
      "Requirement already satisfied: idna<3,>=2.5 in /opt/conda/lib/python3.7/site-packages (from requests) (2.10)\n",
      "Requirement already satisfied: certifi>=2017.4.17 in /opt/conda/lib/python3.7/site-packages (from requests) (2021.5.30)\n",
      "Requirement already satisfied: urllib3!=1.25.0,!=1.25.1,<1.26,>=1.21.1 in /opt/conda/lib/python3.7/site-packages (from requests) (1.25.11)\n",
      "Requirement already satisfied: typer in /opt/conda/lib/python3.7/site-packages (0.6.1)\n",
      "Requirement already satisfied: click<9.0.0,>=7.1.1 in /opt/conda/lib/python3.7/site-packages (from typer) (7.1.2)\n",
      "Requirement already satisfied: multiprocessing_logging in /opt/conda/lib/python3.7/site-packages (0.3.3)\n",
      "Requirement already satisfied: boto3 in /opt/conda/lib/python3.7/site-packages/boto3-1.18.47-py3.7.egg (1.18.47)\n",
      "Collecting botocore<1.22.0,>=1.21.47\n",
      "  Downloading botocore-1.21.65-py3-none-any.whl (8.0 MB)\n",
      "     ━━━━━━━━━━━━━━━━━━━━━━━━━━━━━━━━━━━━━━━━ 8.0/8.0 MB 33.2 MB/s eta 0:00:00\n",
      "Requirement already satisfied: jmespath<1.0.0,>=0.7.1 in /opt/conda/lib/python3.7/site-packages/jmespath-0.10.0-py3.7.egg (from boto3) (0.10.0)\n",
      "Collecting s3transfer<0.6.0,>=0.5.0\n",
      "  Downloading s3transfer-0.5.2-py3-none-any.whl (79 kB)\n",
      "     ━━━━━━━━━━━━━━━━━━━━━━━━━━━━━━━━━━━━━━━━ 79.5/79.5 KB 1.6 MB/s eta 0:00:00\n",
      "Requirement already satisfied: python-dateutil<3.0.0,>=2.1 in /opt/conda/lib/python3.7/site-packages (from botocore<1.22.0,>=1.21.47->boto3) (2.8.2)\n",
      "Requirement already satisfied: urllib3<1.27,>=1.25.4 in /opt/conda/lib/python3.7/site-packages (from botocore<1.22.0,>=1.21.47->boto3) (1.25.11)\n",
      "Requirement already satisfied: six>=1.5 in /opt/conda/lib/python3.7/site-packages (from python-dateutil<3.0.0,>=2.1->botocore<1.22.0,>=1.21.47->boto3) (1.15.0)\n",
      "Installing collected packages: botocore, s3transfer\n",
      "  Attempting uninstall: botocore\n",
      "    Found existing installation: botocore 1.27.62\n",
      "    Uninstalling botocore-1.27.62:\n",
      "      Successfully uninstalled botocore-1.27.62\n",
      "  Attempting uninstall: s3transfer\n",
      "    Found existing installation: s3transfer 0.6.0\n",
      "    Uninstalling s3transfer-0.6.0:\n",
      "      Successfully uninstalled s3transfer-0.6.0\n",
      "Successfully installed botocore-1.21.65 s3transfer-0.5.2\n"
     ]
    },
    {
     "name": "stderr",
     "output_type": "stream",
     "text": [
      "WARNING: Running pip as the 'root' user can result in broken permissions and conflicting behaviour with the system package manager. It is recommended to use a virtual environment instead: https://pip.pypa.io/warnings/venv\n",
      "WARNING: You are using pip version 22.0.3; however, version 22.2.2 is available.\n",
      "You should consider upgrading via the '/opt/conda/bin/python3.7 -m pip install --upgrade pip' command.\n",
      "WARNING: Running pip as the 'root' user can result in broken permissions and conflicting behaviour with the system package manager. It is recommended to use a virtual environment instead: https://pip.pypa.io/warnings/venv\n",
      "WARNING: You are using pip version 22.0.3; however, version 22.2.2 is available.\n",
      "You should consider upgrading via the '/opt/conda/bin/python3.7 -m pip install --upgrade pip' command.\n",
      "WARNING: Running pip as the 'root' user can result in broken permissions and conflicting behaviour with the system package manager. It is recommended to use a virtual environment instead: https://pip.pypa.io/warnings/venv\n",
      "WARNING: You are using pip version 22.0.3; however, version 22.2.2 is available.\n",
      "You should consider upgrading via the '/opt/conda/bin/python3.7 -m pip install --upgrade pip' command.\n",
      "ERROR: pip's dependency resolver does not currently take into account all the packages that are installed. This behaviour is the source of the following dependency conflicts.\n",
      "awscli 1.25.63 requires botocore==1.27.62, but you have botocore 1.21.65 which is incompatible.\n",
      "awscli 1.25.63 requires s3transfer<0.7.0,>=0.6.0, but you have s3transfer 0.5.2 which is incompatible.\n",
      "WARNING: Running pip as the 'root' user can result in broken permissions and conflicting behaviour with the system package manager. It is recommended to use a virtual environment instead: https://pip.pypa.io/warnings/venv\n",
      "WARNING: You are using pip version 22.0.3; however, version 22.2.2 is available.\n",
      "You should consider upgrading via the '/opt/conda/bin/python3.7 -m pip install --upgrade pip' command.\n"
     ]
    }
   ],
   "source": [
    "\n",
    "Install Python Packages\n",
    " you must install the following Python packages, which might not already be installed in your environment:\n",
    "\n",
    "requests: for reading your AOI (GeoJson file), as well as for reading the job output (GeoPackage file containing the subset)\n",
    "typer: for visually verifying your AOI\n",
    "multiprocessing_logging: \n",
    "    \n"
   ]
  },
  {
   "cell_type": "code",
   "execution_count": null,
   "id": "34bbd547",
   "metadata": {},
   "outputs": [],
   "source": [
    "%%bash\n",
    "./run.sh"
   ]
  },
  {
   "cell_type": "markdown",
   "id": "910444f2",
   "metadata": {},
   "source": [
    "## Config file\n",
    "\n",
    "**Config file located in /home/jovyan/soamc-python-sqs-client/sqsconfig.py**\n",
    "\n",
    "**Update the values as needed**\n",
    "\n",
    "[AWS_SQS_QUEUE]\n",
    "\n",
    "AWS_ACCOUNT_ID={{ AWS_ACCOUNT_ID }}\n",
    "\n",
    "region_name=us-west-2\n",
    "\n",
    "aws_access_key={{ AWS_ACCESS_KEY }}\n",
    "\n",
    "aws_secret_key={{ AWS_SECRET_KEY }}\n",
    "\n",
    "listener_queue = {{ SQS_LISTENER_QUEUE }}\n",
    "\n",
    "poll_interval = 60\n",
    "\n",
    "queue_visibility_timeout = 600\n",
    "\n",
    "error_queue_name = None\n",
    "\n",
    "error_queue_visibility_timeout = 600\n",
    "\n",
    "force_delete = False\n",
    "\n",
    "wait_time = 0\n",
    "\n",
    "max_number_of_messages =  1\n",
    "\n",
    "queue_url = {{ QUEUE_URL }}\n",
    "\n",
    "\n",
    "[DAEMON]\n",
    "\n",
    "PID_FILE_PATH={{ PID_FILE_PATH }}/daemon_pid.pid\n",
    "\n",
    "DAEMON_OUTPUT_OVERWRITE=False \n",
    "\n",
    "DAEMON_OUTPUT_FILE={{ DAEMON_OUTPUT_FILE_PATH }}/listener_out.log\n",
    "\n",
    "DAEMON_ERROR_FILE={{ DAEMON_OUTPUT_FILE_PATH }}/listener_error.log\n",
    "\n",
    "DAEMON_STDIN=/dev/null\n",
    "\n",
    "\n",
    "[ADES_WPS-T_SERVER]\n",
    "\n",
    "wps_server_url=http://127.0.0.1:5000"
   ]
  },
  {
   "cell_type": "code",
   "execution_count": 44,
   "id": "0b4a6e87",
   "metadata": {},
   "outputs": [],
   "source": [
    "CONFIG_FILER_PATH = r'/projects/SOAMC-SQS-Communicator/sqsconfig.py'"
   ]
  },
  {
   "cell_type": "code",
   "execution_count": 45,
   "id": "574d0c53",
   "metadata": {},
   "outputs": [],
   "source": [
    "pbs_queue_url = \"https://sqs.us-west-2.amazonaws.com/043575651191/ades-pbs-maaphec-dev-002-wpst-request\"\n",
    "eks_queue_url = \"https://sqs.us-west-2.amazonaws.com/043575651191/ades-eks-maaphec-dev-001-wpst-request\""
   ]
  },
  {
   "cell_type": "markdown",
   "id": "7143ea5a",
   "metadata": {},
   "source": [
    "## See How to Run"
   ]
  },
  {
   "cell_type": "code",
   "execution_count": 46,
   "id": "90119f24",
   "metadata": {},
   "outputs": [
    {
     "name": "stdout",
     "output_type": "stream",
     "text": [
      "Usage: soamc_submitter.py [OPTIONS] COMMAND [ARGS]...\n",
      "\n",
      "Options:\n",
      "  --install-completion [bash|zsh|fish|powershell|pwsh]\n",
      "                                  Install completion for the specified shell.\n",
      "  --show-completion [bash|zsh|fish|powershell|pwsh]\n",
      "                                  Show completion for the specified shell, to\n",
      "                                  copy it or customize the installation.\n",
      "\n",
      "  --help                          Show this message and exit.\n",
      "\n",
      "Commands:\n",
      "  deployprocess\n",
      "  dismiss\n",
      "  execute\n",
      "  getjoblist\n",
      "  getlandingpage\n",
      "  getprocessdescription\n",
      "  getprocesses\n",
      "  getresult\n",
      "  getstatus\n",
      "  undeployprocess\n"
     ]
    }
   ],
   "source": [
    "%%bash\n",
    "python3.7 soamc_submitter.py --help\n"
   ]
  },
  {
   "cell_type": "markdown",
   "id": "02b1654e",
   "metadata": {},
   "source": [
    "## All the Available End Points"
   ]
  },
  {
   "cell_type": "code",
   "execution_count": 47,
   "id": "830b242a",
   "metadata": {},
   "outputs": [
    {
     "name": "stdout",
     "output_type": "stream",
     "text": [
      "submit_message : queue_url : https://sqs.us-west-2.amazonaws.com/043575651191/ades-eks-maaphec-dev-001-wpst-request reply_queue : <sqs_client.reply_queue.ReplyQueue object at 0x7f88597daf50> data : {\"job_type\": \"getLandingPage\"}\n",
      "self.get_name() : reply_queue_ades-eks-maaphec-dev-001-wpst-request3974925272\n",
      "submit_message : sent\n",
      "{\n",
      "  \"Error\": \"Expecting value: line 1 column 1 (char 0)\"\n",
      "}\n"
     ]
    }
   ],
   "source": [
    "%%bash \n",
    "python3.7 soamc_submitter.py getlandingpage https://sqs.us-west-2.amazonaws.com/043575651191/ades-eks-maaphec-dev-001-wpst-request\n"
   ]
  },
  {
   "cell_type": "markdown",
   "id": "4593926a",
   "metadata": {},
   "source": [
    "## Get All the Processs"
   ]
  },
  {
   "cell_type": "code",
   "execution_count": 40,
   "id": "c559966b",
   "metadata": {},
   "outputs": [
    {
     "name": "stdout",
     "output_type": "stream",
     "text": [
      "submit_message : queue_url : https://sqs.us-west-2.amazonaws.com/043575651191/ades-eks-maaphec-dev-001-wpst-request reply_queue : <sqs_client.reply_queue.ReplyQueue object at 0x7ff5d8271090> data : {\"job_type\": \"getProcesses\"}\n",
      "self.get_name() : reply_queue_ades-eks-maaphec-dev-001-wpst-request3820210023\n",
      "submit_message : sent\n",
      "{\n",
      "  \"processes\": [\n",
      "    {\n",
      "      \"abstract\": \"Application Package Demo\",\n",
      "      \"executionUnit\": \"docker://jplzhan/ci-generated-images:jplzhan.gedi-subset.main\",\n",
      "      \"id\": \"jplzhan.gedi-subset.main-1.0.0\",\n",
      "      \"immediateDeployment\": \"true\",\n",
      "      \"jobControlOptions\": [\n",
      "        \"async-execute\"\n",
      "      ],\n",
      "      \"keywords\": \"Demo\",\n",
      "      \"outputTransmission\": [\n",
      "        \"reference\"\n",
      "      ],\n",
      "      \"owsContextURL\": \"https://raw.githubusercontent.com/jplzhan/artifact-deposit-repo/main/jplzhan/gedi-subset/main/workflow.cwl\",\n",
      "      \"processVersion\": \"1.0.0\",\n",
      "      \"title\": \"Added a setup script for interactively debugging this image.\"\n",
      "    }\n",
      "  ]\n",
      "}\n"
     ]
    }
   ],
   "source": [
    "!python3.7 soamc_submitter.py getprocesses https://sqs.us-west-2.amazonaws.com/043575651191/ades-eks-maaphec-dev-001-wpst-request\n"
   ]
  },
  {
   "cell_type": "markdown",
   "id": "816d050a",
   "metadata": {},
   "source": [
    "## List all the Jobs of a Process"
   ]
  },
  {
   "cell_type": "code",
   "execution_count": 41,
   "id": "b841a8ef",
   "metadata": {},
   "outputs": [
    {
     "name": "stdout",
     "output_type": "stream",
     "text": [
      "submit_message : queue_url : https://sqs.us-west-2.amazonaws.com/043575651191/ades-eks-maaphec-dev-001-wpst-request reply_queue : <sqs_client.reply_queue.ReplyQueue object at 0x7fee5ba9bf50> data : {\"job_type\": \"getJobList\", \"process_id\": \"jplzhan.gedi-subset.main-1.0.0\"}\n",
      "self.get_name() : reply_queue_ades-eks-maaphec-dev-001-wpst-request2823258950\n",
      "submit_message : sent\n",
      "{\n",
      "  \"jobs\": [\n",
      "    {\n",
      "      \"backend_info\": \"{\\\"status\\\": \\\"accepted\\\", \\\"k8s_tmpout_pvc_name\\\": \\\"tmpout-l0eneyloyetj\\\", \\\"k8s_output_pvc_name\\\": \\\"output-data-l0eneyloyetj\\\", \\\"k8s_job_id\\\": \\\"calrissian-job-l0eneyloyetj\\\", \\\"api_response\\\": {\\\"apiVersion\\\": \\\"batch/v1\\\", \\\"kind\\\": \\\"Job\\\", \\\"metadata\\\": {\\\"creationTimestamp\\\": \\\"2022-08-30T23:13:01+00:00\\\", \\\"generation\\\": 1, \\\"labels\\\": {\\\"controller-uid\\\": \\\"a5e81656-2e1f-47dc-b18c-974b558de604\\\", \\\"job-name\\\": \\\"calrissian-job-l0eneyloyetj\\\"}, \\\"managedFields\\\": [{\\\"apiVersion\\\": \\\"batch/v1\\\", \\\"fieldsType\\\": \\\"FieldsV1\\\", \\\"fieldsV1\\\": {\\\"f:spec\\\": {\\\"f:backoffLimit\\\": {}, \\\"f:completionMode\\\": {}, \\\"f:completions\\\": {}, \\\"f:parallelism\\\": {}, \\\"f:suspend\\\": {}, \\\"f:template\\\": {\\\"f:spec\\\": {\\\"f:containers\\\": {\\\"k:{\\\\\\\"name\\\\\\\":\\\\\\\"calrissian-job\\\\\\\"}\\\": {\\\".\\\": {}, \\\"f:args\\\": {}, \\\"f:command\\\": {}, \\\"f:env\\\": {\\\".\\\": {}, \\\"k:{\\\\\\\"name\\\\\\\":\\\\\\\"CALRISSIAN_DELETE_PODS\\\\\\\"}\\\": {\\\".\\\": {}, \\\"f:name\\\": {}, \\\"f:value\\\": {}}, \\\"k:{\\\\\\\"name\\\\\\\":\\\\\\\"CALRISSIAN_POD_NAME\\\\\\\"}\\\": {\\\".\\\": {}, \\\"f:name\\\": {}, \\\"f:valueFrom\\\": {\\\".\\\": {}, \\\"f:fieldRef\\\": {}}}}, \\\"f:envFrom\\\": {}, \\\"f:image\\\": {}, \\\"f:imagePullPolicy\\\": {}, \\\"f:name\\\": {}, \\\"f:resources\\\": {}, \\\"f:terminationMessagePath\\\": {}, \\\"f:terminationMessagePolicy\\\": {}, \\\"f:volumeMounts\\\": {\\\".\\\": {}, \\\"k:{\\\\\\\"mountPath\\\\\\\":\\\\\\\"/calrissian/output-data\\\\\\\"}\\\": {\\\".\\\": {}, \\\"f:mountPath\\\": {}, \\\"f:name\\\": {}}, \\\"k:{\\\\\\\"mountPath\\\\\\\":\\\\\\\"/calrissian/tmpout\\\\\\\"}\\\": {\\\".\\\": {}, \\\"f:mountPath\\\": {}, \\\"f:name\\\": {}}}}}, \\\"f:dnsPolicy\\\": {}, \\\"f:initContainers\\\": {\\\".\\\": {}, \\\"k:{\\\\\\\"name\\\\\\\":\\\\\\\"init-volumes\\\\\\\"}\\\": {\\\".\\\": {}, \\\"f:args\\\": {}, \\\"f:command\\\": {}, \\\"f:image\\\": {}, \\\"f:imagePullPolicy\\\": {}, \\\"f:name\\\": {}, \\\"f:resources\\\": {}, \\\"f:terminationMessagePath\\\": {}, \\\"f:terminationMessagePolicy\\\": {}, \\\"f:volumeMounts\\\": {\\\".\\\": {}, \\\"k:{\\\\\\\"mountPath\\\\\\\":\\\\\\\"/calrissian/output-data\\\\\\\"}\\\": {\\\".\\\": {}, \\\"f:mountPath\\\": {}, \\\"f:name\\\": {}}, \\\"k:{\\\\\\\"mountPath\\\\\\\":\\\\\\\"/calrissian/tmpout\\\\\\\"}\\\": {\\\".\\\": {}, \\\"f:mountPath\\\": {}, \\\"f:name\\\": {}}}}}, \\\"f:restartPolicy\\\": {}, \\\"f:schedulerName\\\": {}, \\\"f:securityContext\\\": {}, \\\"f:terminationGracePeriodSeconds\\\": {}, \\\"f:volumes\\\": {\\\".\\\": {}, \\\"k:{\\\\\\\"name\\\\\\\":\\\\\\\"output-data-l0eneyloyetj\\\\\\\"}\\\": {\\\".\\\": {}, \\\"f:name\\\": {}, \\\"f:persistentVolumeClaim\\\": {\\\".\\\": {}, \\\"f:claimName\\\": {}}}, \\\"k:{\\\\\\\"name\\\\\\\":\\\\\\\"tmpout-l0eneyloyetj\\\\\\\"}\\\": {\\\".\\\": {}, \\\"f:name\\\": {}, \\\"f:persistentVolumeClaim\\\": {\\\".\\\": {}, \\\"f:claimName\\\": {}}}}}}}}, \\\"manager\\\": \\\"OpenAPI-Generator\\\", \\\"operation\\\": \\\"Update\\\", \\\"time\\\": \\\"2022-08-30T23:13:01+00:00\\\"}], \\\"name\\\": \\\"calrissian-job-l0eneyloyetj\\\", \\\"namespace\\\": \\\"ades\\\", \\\"resourceVersion\\\": \\\"4784001\\\", \\\"uid\\\": \\\"a5e81656-2e1f-47dc-b18c-974b558de604\\\"}, \\\"spec\\\": {\\\"backoffLimit\\\": 0, \\\"completions\\\": 1, \\\"parallelism\\\": 1, \\\"selector\\\": {\\\"matchLabels\\\": {\\\"controller-uid\\\": \\\"a5e81656-2e1f-47dc-b18c-974b558de604\\\"}}, \\\"template\\\": {\\\"metadata\\\": {\\\"labels\\\": {\\\"controller-uid\\\": \\\"a5e81656-2e1f-47dc-b18c-974b558de604\\\", \\\"job-name\\\": \\\"calrissian-job-l0eneyloyetj\\\"}}, \\\"spec\\\": {\\\"containers\\\": [{\\\"args\\\": [\\\"calrissian-job-l0eneyloyetj\\\", \\\"--debug\\\", \\\"--leave-outputs\\\", \\\"--leave-tmpdir\\\", \\\"--stdout\\\", \\\"/calrissian/output-data/output-data-l0eneyloyetj/docker-output.json\\\", \\\"--stderr\\\", \\\"/calrissian/output-data/output-data-l0eneyloyetj/docker-stderr.log\\\", \\\"--max-ram\\\", \\\"1024Mi\\\", \\\"--max-cores\\\", \\\"1\\\", \\\"--tmp-outdir-prefix\\\", \\\"/calrissian/tmpout/tmpout-l0eneyloyetj/\\\", \\\"--outdir\\\", \\\"/calrissian/output-data/output-data-l0eneyloyetj/\\\", \\\"--usage-report\\\", \\\"/calrissian/output-data/output-data-l0eneyloyetj/docker-usage.json\\\", \\\"https://raw.githubusercontent.com/jplzhan/artifact-deposit-repo/main/jplzhan/gedi-subset/main/workflow.cwl\\\", \\\"/calrissian/tmpout/tmpout-l0eneyloyetj/inputs.json\\\"], \\\"command\\\": [\\\"/app/run_and_dump_usage.sh\\\"], \\\"env\\\": [{\\\"name\\\": \\\"CALRISSIAN_POD_NAME\\\", \\\"valueFrom\\\": {\\\"fieldRef\\\": {\\\"apiVersion\\\": \\\"v1\\\", \\\"fieldPath\\\": \\\"metadata.name\\\"}}}, {\\\"name\\\": \\\"CALRISSIAN_DELETE_PODS\\\", \\\"value\\\": \\\"false\\\"}], \\\"envFrom\\\": [{\\\"secretRef\\\": {\\\"name\\\": \\\"aws-creds\\\"}}], \\\"image\\\": \\\"pymonger/calrissian:latest\\\", \\\"imagePullPolicy\\\": \\\"IfNotPresent\\\", \\\"name\\\": \\\"calrissian-job\\\", \\\"resources\\\": {}, \\\"terminationMessagePath\\\": \\\"/dev/termination-log\\\", \\\"terminationMessagePolicy\\\": \\\"File\\\", \\\"volumeMounts\\\": [{\\\"mountPath\\\": \\\"/calrissian/tmpout\\\", \\\"name\\\": \\\"tmpout-l0eneyloyetj\\\"}, {\\\"mountPath\\\": \\\"/calrissian/output-data\\\", \\\"name\\\": \\\"output-data-l0eneyloyetj\\\"}]}], \\\"dnsPolicy\\\": \\\"ClusterFirst\\\", \\\"initContainers\\\": [{\\\"args\\\": [\\\"-c\\\", \\\"chmod 777 /calrissian || true && chmod +t /calrissian || true && mkdir -p /calrissian/tmpout/tmpout-l0eneyloyetj && chmod 777 /calrissian/tmpout/tmpout-l0eneyloyetj && chmod +t /calrissian/tmpout/tmpout-l0eneyloyetj && mkdir -p /calrissian/output-data/output-data-l0eneyloyetj && chmod 777 /calrissian/output-data/output-data-l0eneyloyetj && chmod +t /calrissian/output-data/output-data-l0eneyloyetj && cat << EOF > /calrissian/tmpout/tmpout-l0eneyloyetj/inputs.json\\\\n{\\\\n  \\\\\\\"stage_out\\\\\\\": {\\\\n    \\\\\\\"s3_url\\\\\\\": \\\\\\\"s3://maap-hec-ades-out-dev/maap-hec-eks\\\\\\\",\\\\n    \\\\\\\"aws_access_key_id\\\\\\\": \\\\\\\"${AWS_ACCESS_KEY_ID}\\\\\\\",\\\\n    \\\\\\\"aws_secret_access_key\\\\\\\": \\\\\\\"${AWS_SECRET_ACCESS_KEY}\\\\\\\",\\\\n    \\\\\\\"aws_session_token\\\\\\\": \\\\\\\"${AWS_SESSION_TOKEN}\\\\\\\",\\\\n    \\\\\\\"region\\\\\\\": \\\\\\\"us-west-2\\\\\\\"\\\\n  },\\\\n  \\\\\\\"aoi\\\\\\\": {\\\\n    \\\\\\\"url\\\\\\\": \\\\\\\"https://github.com/wmgeolab/geoBoundaries/raw/9f8c9e0f3aa13c5d07efaf10a829e3be024973fa/releaseData/gbOpen/GAB/ADM0/geoBoundaries-GAB-ADM0.geojson\\\\\\\"\\\\n  },\\\\n  \\\\\\\"columns\\\\\\\": \\\\\\\"agbd, agbd_se, l2_quality_flag, l4_quality_flag, sensitivity, sensitivity_a2, lon_lowestmode, lat_lowestmode\\\\\\\",\\\\n  \\\\\\\"query\\\\\\\": \\\\\\\"l2_quality_flag == 1 and l4_quality_flag == 1 and sensitivity > 0.95 and sensitivity_a2 > 0.95\\\\\\\",\\\\n  \\\\\\\"limit\\\\\\\": 2,\\\\n  \\\\\\\"maappgt\\\\\\\": \\\\\\\"${MAAP_PGT}\\\\\\\"\\\\n}\\\\nEOF\\\"], \\\"command\\\": [\\\"sh\\\"], \\\"image\\\": \\\"busybox\\\", \\\"imagePullPolicy\\\": \\\"IfNotPresent\\\", \\\"name\\\": \\\"init-volumes\\\", \\\"resources\\\": {}, \\\"terminationMessagePath\\\": \\\"/dev/termination-log\\\", \\\"terminationMessagePolicy\\\": \\\"File\\\", \\\"volumeMounts\\\": [{\\\"mountPath\\\": \\\"/calrissian/tmpout\\\", \\\"name\\\": \\\"tmpout-l0eneyloyetj\\\"}, {\\\"mountPath\\\": \\\"/calrissian/output-data\\\", \\\"name\\\": \\\"output-data-l0eneyloyetj\\\"}]}], \\\"restartPolicy\\\": \\\"Never\\\", \\\"schedulerName\\\": \\\"default-scheduler\\\", \\\"securityContext\\\": {}, \\\"terminationGracePeriodSeconds\\\": 30, \\\"volumes\\\": [{\\\"name\\\": \\\"tmpout-l0eneyloyetj\\\", \\\"persistentVolumeClaim\\\": {\\\"claimName\\\": \\\"tmpout-l0eneyloyetj\\\"}}, {\\\"name\\\": \\\"output-data-l0eneyloyetj\\\", \\\"persistentVolumeClaim\\\": {\\\"claimName\\\": \\\"output-data-l0eneyloyetj\\\"}}]}}}, \\\"status\\\": {}}}\",\n",
      "      \"inputs\": \"{\\\"stage_out\\\": {\\\"s3_url\\\": \\\"s3://maap-hec-ades-out-dev/maap-hec-eks\\\", \\\"aws_access_key_id\\\": \\\"${AWS_ACCESS_KEY_ID}\\\", \\\"aws_secret_access_key\\\": \\\"${AWS_SECRET_ACCESS_KEY}\\\", \\\"aws_session_token\\\": \\\"${AWS_SESSION_TOKEN}\\\", \\\"region\\\": \\\"us-west-2\\\"}, \\\"aoi\\\": {\\\"url\\\": \\\"https://github.com/wmgeolab/geoBoundaries/raw/9f8c9e0f3aa13c5d07efaf10a829e3be024973fa/releaseData/gbOpen/GAB/ADM0/geoBoundaries-GAB-ADM0.geojson\\\"}, \\\"columns\\\": \\\"agbd, agbd_se, l2_quality_flag, l4_quality_flag, sensitivity, sensitivity_a2, lon_lowestmode, lat_lowestmode\\\", \\\"query\\\": \\\"l2_quality_flag == 1 and l4_quality_flag == 1 and sensitivity > 0.95 and sensitivity_a2 > 0.95\\\", \\\"limit\\\": 2, \\\"maappgt\\\": \\\"${MAAP_PGT}\\\"}\",\n",
      "      \"jobID\": \"jplzhan.gedi-subset.main-1.0.0-4631635df9eb0693f50d995a412d71bbb33e17a0\",\n",
      "      \"metrics\": \"{}\",\n",
      "      \"procID\": \"jplzhan.gedi-subset.main-1.0.0\",\n",
      "      \"status\": \"running\",\n",
      "      \"timestamp\": \"2022-08-30T23:18:30Z\"\n",
      "    },\n",
      "    {\n",
      "      \"backend_info\": \"{\\\"status\\\": \\\"accepted\\\", \\\"k8s_tmpout_pvc_name\\\": \\\"tmpout-brgp8lqybdvf\\\", \\\"k8s_output_pvc_name\\\": \\\"output-data-brgp8lqybdvf\\\", \\\"k8s_job_id\\\": \\\"calrissian-job-brgp8lqybdvf\\\", \\\"api_response\\\": {\\\"apiVersion\\\": \\\"batch/v1\\\", \\\"kind\\\": \\\"Job\\\", \\\"metadata\\\": {\\\"creationTimestamp\\\": \\\"2022-08-30T23:39:53+00:00\\\", \\\"generation\\\": 1, \\\"labels\\\": {\\\"controller-uid\\\": \\\"4bed655a-3cc4-4960-af23-07397b85ce6e\\\", \\\"job-name\\\": \\\"calrissian-job-brgp8lqybdvf\\\"}, \\\"managedFields\\\": [{\\\"apiVersion\\\": \\\"batch/v1\\\", \\\"fieldsType\\\": \\\"FieldsV1\\\", \\\"fieldsV1\\\": {\\\"f:spec\\\": {\\\"f:backoffLimit\\\": {}, \\\"f:completionMode\\\": {}, \\\"f:completions\\\": {}, \\\"f:parallelism\\\": {}, \\\"f:suspend\\\": {}, \\\"f:template\\\": {\\\"f:spec\\\": {\\\"f:containers\\\": {\\\"k:{\\\\\\\"name\\\\\\\":\\\\\\\"calrissian-job\\\\\\\"}\\\": {\\\".\\\": {}, \\\"f:args\\\": {}, \\\"f:command\\\": {}, \\\"f:env\\\": {\\\".\\\": {}, \\\"k:{\\\\\\\"name\\\\\\\":\\\\\\\"CALRISSIAN_DELETE_PODS\\\\\\\"}\\\": {\\\".\\\": {}, \\\"f:name\\\": {}, \\\"f:value\\\": {}}, \\\"k:{\\\\\\\"name\\\\\\\":\\\\\\\"CALRISSIAN_POD_NAME\\\\\\\"}\\\": {\\\".\\\": {}, \\\"f:name\\\": {}, \\\"f:valueFrom\\\": {\\\".\\\": {}, \\\"f:fieldRef\\\": {}}}}, \\\"f:envFrom\\\": {}, \\\"f:image\\\": {}, \\\"f:imagePullPolicy\\\": {}, \\\"f:name\\\": {}, \\\"f:resources\\\": {}, \\\"f:terminationMessagePath\\\": {}, \\\"f:terminationMessagePolicy\\\": {}, \\\"f:volumeMounts\\\": {\\\".\\\": {}, \\\"k:{\\\\\\\"mountPath\\\\\\\":\\\\\\\"/calrissian/output-data\\\\\\\"}\\\": {\\\".\\\": {}, \\\"f:mountPath\\\": {}, \\\"f:name\\\": {}}, \\\"k:{\\\\\\\"mountPath\\\\\\\":\\\\\\\"/calrissian/tmpout\\\\\\\"}\\\": {\\\".\\\": {}, \\\"f:mountPath\\\": {}, \\\"f:name\\\": {}}}}}, \\\"f:dnsPolicy\\\": {}, \\\"f:initContainers\\\": {\\\".\\\": {}, \\\"k:{\\\\\\\"name\\\\\\\":\\\\\\\"init-volumes\\\\\\\"}\\\": {\\\".\\\": {}, \\\"f:args\\\": {}, \\\"f:command\\\": {}, \\\"f:image\\\": {}, \\\"f:imagePullPolicy\\\": {}, \\\"f:name\\\": {}, \\\"f:resources\\\": {}, \\\"f:terminationMessagePath\\\": {}, \\\"f:terminationMessagePolicy\\\": {}, \\\"f:volumeMounts\\\": {\\\".\\\": {}, \\\"k:{\\\\\\\"mountPath\\\\\\\":\\\\\\\"/calrissian/output-data\\\\\\\"}\\\": {\\\".\\\": {}, \\\"f:mountPath\\\": {}, \\\"f:name\\\": {}}, \\\"k:{\\\\\\\"mountPath\\\\\\\":\\\\\\\"/calrissian/tmpout\\\\\\\"}\\\": {\\\".\\\": {}, \\\"f:mountPath\\\": {}, \\\"f:name\\\": {}}}}}, \\\"f:restartPolicy\\\": {}, \\\"f:schedulerName\\\": {}, \\\"f:securityContext\\\": {}, \\\"f:terminationGracePeriodSeconds\\\": {}, \\\"f:volumes\\\": {\\\".\\\": {}, \\\"k:{\\\\\\\"name\\\\\\\":\\\\\\\"output-data-brgp8lqybdvf\\\\\\\"}\\\": {\\\".\\\": {}, \\\"f:name\\\": {}, \\\"f:persistentVolumeClaim\\\": {\\\".\\\": {}, \\\"f:claimName\\\": {}}}, \\\"k:{\\\\\\\"name\\\\\\\":\\\\\\\"tmpout-brgp8lqybdvf\\\\\\\"}\\\": {\\\".\\\": {}, \\\"f:name\\\": {}, \\\"f:persistentVolumeClaim\\\": {\\\".\\\": {}, \\\"f:claimName\\\": {}}}}}}}}, \\\"manager\\\": \\\"OpenAPI-Generator\\\", \\\"operation\\\": \\\"Update\\\", \\\"time\\\": \\\"2022-08-30T23:39:53+00:00\\\"}], \\\"name\\\": \\\"calrissian-job-brgp8lqybdvf\\\", \\\"namespace\\\": \\\"ades\\\", \\\"resourceVersion\\\": \\\"4788123\\\", \\\"uid\\\": \\\"4bed655a-3cc4-4960-af23-07397b85ce6e\\\"}, \\\"spec\\\": {\\\"backoffLimit\\\": 0, \\\"completions\\\": 1, \\\"parallelism\\\": 1, \\\"selector\\\": {\\\"matchLabels\\\": {\\\"controller-uid\\\": \\\"4bed655a-3cc4-4960-af23-07397b85ce6e\\\"}}, \\\"template\\\": {\\\"metadata\\\": {\\\"labels\\\": {\\\"controller-uid\\\": \\\"4bed655a-3cc4-4960-af23-07397b85ce6e\\\", \\\"job-name\\\": \\\"calrissian-job-brgp8lqybdvf\\\"}}, \\\"spec\\\": {\\\"containers\\\": [{\\\"args\\\": [\\\"calrissian-job-brgp8lqybdvf\\\", \\\"--debug\\\", \\\"--leave-outputs\\\", \\\"--leave-tmpdir\\\", \\\"--stdout\\\", \\\"/calrissian/output-data/output-data-brgp8lqybdvf/docker-output.json\\\", \\\"--stderr\\\", \\\"/calrissian/output-data/output-data-brgp8lqybdvf/docker-stderr.log\\\", \\\"--max-ram\\\", \\\"1024Mi\\\", \\\"--max-cores\\\", \\\"1\\\", \\\"--tmp-outdir-prefix\\\", \\\"/calrissian/tmpout/tmpout-brgp8lqybdvf/\\\", \\\"--outdir\\\", \\\"/calrissian/output-data/output-data-brgp8lqybdvf/\\\", \\\"--usage-report\\\", \\\"/calrissian/output-data/output-data-brgp8lqybdvf/docker-usage.json\\\", \\\"https://raw.githubusercontent.com/jplzhan/artifact-deposit-repo/main/jplzhan/gedi-subset/main/workflow.cwl\\\", \\\"/calrissian/tmpout/tmpout-brgp8lqybdvf/inputs.json\\\"], \\\"command\\\": [\\\"/app/run_and_dump_usage.sh\\\"], \\\"env\\\": [{\\\"name\\\": \\\"CALRISSIAN_POD_NAME\\\", \\\"valueFrom\\\": {\\\"fieldRef\\\": {\\\"apiVersion\\\": \\\"v1\\\", \\\"fieldPath\\\": \\\"metadata.name\\\"}}}, {\\\"name\\\": \\\"CALRISSIAN_DELETE_PODS\\\", \\\"value\\\": \\\"false\\\"}], \\\"envFrom\\\": [{\\\"secretRef\\\": {\\\"name\\\": \\\"aws-creds\\\"}}], \\\"image\\\": \\\"pymonger/calrissian:latest\\\", \\\"imagePullPolicy\\\": \\\"IfNotPresent\\\", \\\"name\\\": \\\"calrissian-job\\\", \\\"resources\\\": {}, \\\"terminationMessagePath\\\": \\\"/dev/termination-log\\\", \\\"terminationMessagePolicy\\\": \\\"File\\\", \\\"volumeMounts\\\": [{\\\"mountPath\\\": \\\"/calrissian/tmpout\\\", \\\"name\\\": \\\"tmpout-brgp8lqybdvf\\\"}, {\\\"mountPath\\\": \\\"/calrissian/output-data\\\", \\\"name\\\": \\\"output-data-brgp8lqybdvf\\\"}]}], \\\"dnsPolicy\\\": \\\"ClusterFirst\\\", \\\"initContainers\\\": [{\\\"args\\\": [\\\"-c\\\", \\\"chmod 777 /calrissian || true && chmod +t /calrissian || true && mkdir -p /calrissian/tmpout/tmpout-brgp8lqybdvf && chmod 777 /calrissian/tmpout/tmpout-brgp8lqybdvf && chmod +t /calrissian/tmpout/tmpout-brgp8lqybdvf && mkdir -p /calrissian/output-data/output-data-brgp8lqybdvf && chmod 777 /calrissian/output-data/output-data-brgp8lqybdvf && chmod +t /calrissian/output-data/output-data-brgp8lqybdvf && cat << EOF > /calrissian/tmpout/tmpout-brgp8lqybdvf/inputs.json\\\\n{\\\\n  \\\\\\\"stage_out\\\\\\\": {\\\\n    \\\\\\\"s3_url\\\\\\\": \\\\\\\"s3://maap-hec-ades-out-dev/maap-hec-eks\\\\\\\",\\\\n    \\\\\\\"aws_access_key_id\\\\\\\": \\\\\\\"${AWS_ACCESS_KEY_ID}\\\\\\\",\\\\n    \\\\\\\"aws_secret_access_key\\\\\\\": \\\\\\\"${AWS_SECRET_ACCESS_KEY}\\\\\\\",\\\\n    \\\\\\\"aws_session_token\\\\\\\": \\\\\\\"${AWS_SESSION_TOKEN}\\\\\\\",\\\\n    \\\\\\\"region\\\\\\\": \\\\\\\"us-west-2\\\\\\\"\\\\n  },\\\\n  \\\\\\\"aoi\\\\\\\": {\\\\n    \\\\\\\"url\\\\\\\": \\\\\\\"https://github.com/wmgeolab/geoBoundaries/raw/9f8c9e0f3aa13c5d07efaf10a829e3be024973fa/releaseData/gbOpen/GAB/ADM0/geoBoundaries-GAB-ADM0.geojson\\\\\\\"\\\\n  },\\\\n  \\\\\\\"columns\\\\\\\": \\\\\\\"agbd, agbd_se, l2_quality_flag, l4_quality_flag, sensitivity, sensitivity_a2, lon_lowestmode, lat_lowestmode\\\\\\\",\\\\n  \\\\\\\"query\\\\\\\": \\\\\\\"l2_quality_flag == 1 and l4_quality_flag == 1 and sensitivity > 0.95 and sensitivity_a2 > 0.95\\\\\\\",\\\\n  \\\\\\\"limit\\\\\\\": 10000,\\\\n  \\\\\\\"maappgt\\\\\\\": \\\\\\\"${MAAP_PGT}\\\\\\\"\\\\n}\\\\nEOF\\\"], \\\"command\\\": [\\\"sh\\\"], \\\"image\\\": \\\"busybox\\\", \\\"imagePullPolicy\\\": \\\"IfNotPresent\\\", \\\"name\\\": \\\"init-volumes\\\", \\\"resources\\\": {}, \\\"terminationMessagePath\\\": \\\"/dev/termination-log\\\", \\\"terminationMessagePolicy\\\": \\\"File\\\", \\\"volumeMounts\\\": [{\\\"mountPath\\\": \\\"/calrissian/tmpout\\\", \\\"name\\\": \\\"tmpout-brgp8lqybdvf\\\"}, {\\\"mountPath\\\": \\\"/calrissian/output-data\\\", \\\"name\\\": \\\"output-data-brgp8lqybdvf\\\"}]}], \\\"restartPolicy\\\": \\\"Never\\\", \\\"schedulerName\\\": \\\"default-scheduler\\\", \\\"securityContext\\\": {}, \\\"terminationGracePeriodSeconds\\\": 30, \\\"volumes\\\": [{\\\"name\\\": \\\"tmpout-brgp8lqybdvf\\\", \\\"persistentVolumeClaim\\\": {\\\"claimName\\\": \\\"tmpout-brgp8lqybdvf\\\"}}, {\\\"name\\\": \\\"output-data-brgp8lqybdvf\\\", \\\"persistentVolumeClaim\\\": {\\\"claimName\\\": \\\"output-data-brgp8lqybdvf\\\"}}]}}}, \\\"status\\\": {}}}\",\n",
      "      \"inputs\": \"{\\\"stage_out\\\": {\\\"s3_url\\\": \\\"s3://maap-hec-ades-out-dev/maap-hec-eks\\\", \\\"aws_access_key_id\\\": \\\"${AWS_ACCESS_KEY_ID}\\\", \\\"aws_secret_access_key\\\": \\\"${AWS_SECRET_ACCESS_KEY}\\\", \\\"aws_session_token\\\": \\\"${AWS_SESSION_TOKEN}\\\", \\\"region\\\": \\\"us-west-2\\\"}, \\\"aoi\\\": {\\\"url\\\": \\\"https://github.com/wmgeolab/geoBoundaries/raw/9f8c9e0f3aa13c5d07efaf10a829e3be024973fa/releaseData/gbOpen/GAB/ADM0/geoBoundaries-GAB-ADM0.geojson\\\"}, \\\"columns\\\": \\\"agbd, agbd_se, l2_quality_flag, l4_quality_flag, sensitivity, sensitivity_a2, lon_lowestmode, lat_lowestmode\\\", \\\"query\\\": \\\"l2_quality_flag == 1 and l4_quality_flag == 1 and sensitivity > 0.95 and sensitivity_a2 > 0.95\\\", \\\"limit\\\": 10000, \\\"maappgt\\\": \\\"${MAAP_PGT}\\\"}\",\n",
      "      \"jobID\": \"jplzhan.gedi-subset.main-1.0.0-63cd5d75ee622bb399d0a60d9606dfae72236d71\",\n",
      "      \"metrics\": \"{}\",\n",
      "      \"procID\": \"jplzhan.gedi-subset.main-1.0.0\",\n",
      "      \"status\": \"accepted\",\n",
      "      \"timestamp\": \"2022-08-30T23:39:53Z\"\n",
      "    }\n",
      "  ]\n",
      "}\n"
     ]
    }
   ],
   "source": [
    "!python3.7 soamc_submitter.py getjoblist jplzhan.gedi-subset.main-1.0.0 https://sqs.us-west-2.amazonaws.com/043575651191/ades-eks-maaphec-dev-001-wpst-request\n",
    "\n"
   ]
  },
  {
   "cell_type": "markdown",
   "id": "0789e279",
   "metadata": {},
   "source": [
    "## Job-Result of a Particular Job"
   ]
  },
  {
   "cell_type": "code",
   "execution_count": 42,
   "id": "5e9b4938",
   "metadata": {},
   "outputs": [
    {
     "name": "stdout",
     "output_type": "stream",
     "text": [
      "jplzhan.gedi-subset.main-1.0.0\n",
      "submit_message : queue_url : https://sqs.us-west-2.amazonaws.com/043575651191/ades-eks-maaphec-dev-001-wpst-request reply_queue : <sqs_client.reply_queue.ReplyQueue object at 0x7f8334263e50> data : {\"job_type\": \"getResult\", \"process_id\": \"jplzhan.gedi-subset.main-1.0.0\", \"job_id\": \"jplzhan.gedi-subset.main-1.0.0-63cd5d75ee622bb399d0a60d9606dfae72236d71\"}\n",
      "self.get_name() : reply_queue_ades-eks-maaphec-dev-001-wpst-request1480202383\n",
      "submit_message : sent\n",
      "{\n",
      "  \"Error\": \"Expecting value: line 1 column 1 (char 0)\"\n",
      "}\n"
     ]
    }
   ],
   "source": [
    "!python3.7 soamc_submitter.py getresult jplzhan.gedi-subset.main-1.0.0 jplzhan.gedi-subset.main-1.0.0-63cd5d75ee622bb399d0a60d9606dfae72236d71 https://sqs.us-west-2.amazonaws.com/043575651191/ades-eks-maaphec-dev-001-wpst-request\n"
   ]
  },
  {
   "cell_type": "markdown",
   "id": "5ae0cadb",
   "metadata": {},
   "source": [
    "## Job-Status of a Particular Job"
   ]
  },
  {
   "cell_type": "code",
   "execution_count": 43,
   "id": "ea0156a1",
   "metadata": {},
   "outputs": [
    {
     "name": "stdout",
     "output_type": "stream",
     "text": [
      "jplzhan.gedi-subset.main-1.0.0\n",
      "submit_message : queue_url : https://sqs.us-west-2.amazonaws.com/043575651191/ades-eks-maaphec-dev-001-wpst-request reply_queue : <sqs_client.reply_queue.ReplyQueue object at 0x7f84eabfb0d0> data : {\"job_type\": \"getStatus\", \"process_id\": \"jplzhan.gedi-subset.main-1.0.0\", \"job_id\": \"jplzhan.gedi-subset.main-1.0.0-4631635df9eb0693f50d995a412d71bbb33e17a0\"}\n",
      "self.get_name() : reply_queue_ades-eks-maaphec-dev-001-wpst-request2942305645\n",
      "submit_message : sent\n",
      "{\n",
      "  \"Error\": \"Expecting value: line 1 column 1 (char 0)\"\n",
      "}\n"
     ]
    }
   ],
   "source": [
    "!python3.7 soamc_submitter.py getstatus jplzhan.gedi-subset.main-1.0.0 jplzhan.gedi-subset.main-1.0.0-4631635df9eb0693f50d995a412d71bbb33e17a0 https://sqs.us-west-2.amazonaws.com/043575651191/ades-eks-maaphec-dev-001-wpst-request\n"
   ]
  },
  {
   "cell_type": "markdown",
   "id": "1313c467",
   "metadata": {},
   "source": [
    "## Delete a Particular Job"
   ]
  },
  {
   "cell_type": "code",
   "execution_count": null,
   "id": "29e1f1d8",
   "metadata": {},
   "outputs": [],
   "source": [
    "!python3.7 soamc_submitter.py delete-job proc1 job1"
   ]
  },
  {
   "cell_type": "markdown",
   "id": "938fce55",
   "metadata": {},
   "source": [
    "## Delete a Partcular Process"
   ]
  },
  {
   "cell_type": "code",
   "execution_count": null,
   "id": "d734bf2e",
   "metadata": {},
   "outputs": [],
   "source": [
    "!python soamc_submitter.py delete-process proc1"
   ]
  },
  {
   "cell_type": "markdown",
   "id": "b752078f",
   "metadata": {},
   "source": [
    "## Deploy All Processes"
   ]
  },
  {
   "cell_type": "code",
   "execution_count": null,
   "id": "bed6de52",
   "metadata": {},
   "outputs": [],
   "source": [
    "!python soamc_submitter.py deployprocess\n"
   ]
  },
  {
   "cell_type": "markdown",
   "id": "e0da3274",
   "metadata": {},
   "source": [
    "## Execute a Particular Process"
   ]
  },
  {
   "cell_type": "code",
   "execution_count": null,
   "id": "098e704a",
   "metadata": {},
   "outputs": [],
   "source": [
    "!python soamc_submitter.py execute proc1"
   ]
  },
  {
   "cell_type": "code",
   "execution_count": null,
   "id": "f33a5cd6",
   "metadata": {},
   "outputs": [],
   "source": []
  }
 ],
 "metadata": {
  "kernelspec": {
   "display_name": "Python 3 (ipykernel)",
   "language": "python",
   "name": "python3"
  },
  "language_info": {
   "codemirror_mode": {
    "name": "ipython",
    "version": 3
   },
   "file_extension": ".py",
   "mimetype": "text/x-python",
   "name": "python",
   "nbconvert_exporter": "python",
   "pygments_lexer": "ipython3",
   "version": "3.7.8"
  }
 },
 "nbformat": 4,
 "nbformat_minor": 5
}
